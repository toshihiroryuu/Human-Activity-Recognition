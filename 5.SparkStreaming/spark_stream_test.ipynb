{
 "cells": [
  {
   "cell_type": "code",
   "execution_count": 32,
   "id": "proper-eligibility",
   "metadata": {},
   "outputs": [],
   "source": [
    "import time"
   ]
  },
  {
   "cell_type": "code",
   "execution_count": 33,
   "id": "wound-testing",
   "metadata": {},
   "outputs": [],
   "source": [
    "# from pyspark import SparkContext\n",
    "# from pyspark.streaming import StreamingContext\n",
    "# sc = SparkContext(\"local\", \"WordCount\")\n",
    "# ssc = StreamingContext(sc, 10) // Stream data every 10 sec\n",
    "# lines = ssc.textFileStream(\"/home/karthiamrita/textdata\")\n",
    "# words = lines.flatMap(lambda line: line.split(\" \"))\n",
    "# # Count each word in each batch\n",
    "# pairs = words.map(lambda word: (word, 1))\n",
    "# wordCounts = pairs.reduceByKey(lambda x, y: x + y)\n",
    "# # Print the first 10 \n",
    "# elements of each RDD generated in this DStream to the console\n",
    "# wordCounts.pprint()\n",
    "# ssc.start() # Start the computation\n",
    "# ssc.awaitTermination()"
   ]
  },
  {
   "cell_type": "code",
   "execution_count": 34,
   "id": "foreign-france",
   "metadata": {},
   "outputs": [],
   "source": [
    "from pyspark import SparkContext\n",
    "from pyspark.streaming import StreamingContext\n",
    "from pyspark.sql import Row, SparkSession\n",
    "from pyspark.sql.types import StructType\n",
    "import pyspark.sql.types as tp\n",
    "# Create a spark Session\n",
    "spark = SparkSession.builder.appName(\"StructuredStreaming\").getOrCreate()\n"
   ]
  },
  {
   "cell_type": "code",
   "execution_count": 35,
   "id": "efficient-audience",
   "metadata": {
    "scrolled": true
   },
   "outputs": [],
   "source": [
    "user_schema = tp.StructType([\n",
    "  tp.StructField(name= 'mobileno',          dataType= tp.StringType(),  nullable= True),\n",
    "  tp.StructField(name= 'dateandtime',       dataType= tp.StringType(),  nullable= True),\n",
    "  tp.StructField(name= 'acc',       dataType= tp.FloatType(),   nullable= True),\n",
    "  tp.StructField(name= 'gyro',          dataType= tp.FloatType(),  nullable= True),\n",
    "  tp.StructField(name= 'weight',       dataType= tp.IntegerType(),  nullable= True),\n",
    "  tp.StructField(name= 'height',       dataType= tp.IntegerType(),   nullable= True),\n",
    "  tp.StructField(name= 'gender',          dataType= tp.StringType(),  nullable= True),\n",
    "  tp.StructField(name= 'age',       dataType= tp.IntegerType(),  nullable= True)\n",
    "])"
   ]
  },
  {
   "cell_type": "code",
   "execution_count": 41,
   "id": "coastal-hearing",
   "metadata": {},
   "outputs": [],
   "source": [
    "\n",
    "# create the schema for dataframe\n",
    "#userSchema = StructType().add(\"mobileno\", StringType()).add(\"dateandtime\", float).add(\"acc\",float).add(\"gyro\",float).add(\"weight\",Integer).add(\"height\",Integer).add(\"Gender\",string).add(\"age\",Integer)\n",
    "# read the data from folder - contains all the CSV file\n",
    "csvDF = spark.readStream.format(\"csv\").option(\"header\", True).schema(user_schema).load(\"/home/jovyan/work/mldb_proj//data\")\n",
    "csvDF.isStreaming\n",
    "query = csvDF.writeStream.outputMode(\"append\").format(\"console\").start()"
   ]
  },
  {
   "cell_type": "code",
   "execution_count": null,
   "id": "frozen-hollywood",
   "metadata": {},
   "outputs": [],
   "source": []
  },
  {
   "cell_type": "code",
   "execution_count": null,
   "id": "motivated-duplicate",
   "metadata": {},
   "outputs": [],
   "source": []
  },
  {
   "cell_type": "code",
   "execution_count": 43,
   "id": "improved-fluid",
   "metadata": {},
   "outputs": [],
   "source": [
    "query.stop()"
   ]
  },
  {
   "cell_type": "code",
   "execution_count": 38,
   "id": "billion-chair",
   "metadata": {},
   "outputs": [],
   "source": [
    "# display(csvDF)"
   ]
  },
  {
   "cell_type": "code",
   "execution_count": 39,
   "id": "fossil-worry",
   "metadata": {},
   "outputs": [],
   "source": [
    "# csvDF.printSchema()"
   ]
  },
  {
   "cell_type": "code",
   "execution_count": null,
   "id": "sudden-pursuit",
   "metadata": {},
   "outputs": [],
   "source": []
  }
 ],
 "metadata": {
  "kernelspec": {
   "display_name": "Python 3",
   "language": "python",
   "name": "python3"
  },
  "language_info": {
   "codemirror_mode": {
    "name": "ipython",
    "version": 3
   },
   "file_extension": ".py",
   "mimetype": "text/x-python",
   "name": "python",
   "nbconvert_exporter": "python",
   "pygments_lexer": "ipython3",
   "version": "3.8.8"
  }
 },
 "nbformat": 4,
 "nbformat_minor": 5
}
