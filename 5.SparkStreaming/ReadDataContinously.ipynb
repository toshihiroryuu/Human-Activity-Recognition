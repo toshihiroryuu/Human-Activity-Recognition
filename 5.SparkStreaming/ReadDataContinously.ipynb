{
 "cells": [
  {
   "cell_type": "code",
   "execution_count": 7,
   "id": "e948f36c",
   "metadata": {},
   "outputs": [],
   "source": [
    "import pandas as pd\n",
    "import time\n",
    "\n",
    "# Import writer class from csv module\n",
    "from csv import writer"
   ]
  },
  {
   "cell_type": "code",
   "execution_count": 8,
   "id": "d4efbbc9",
   "metadata": {},
   "outputs": [],
   "source": [
    "def receive_data():\n",
    "    # List\n",
    "    data = ['ID', 'Time', 'Rotation', 'Acceleration','Weight', 'Height','Gender', 'Age']\n",
    "    return data"
   ]
  },
  {
   "cell_type": "code",
   "execution_count": 12,
   "id": "94e4d761",
   "metadata": {},
   "outputs": [],
   "source": [
    "try:\n",
    "    while(True):\n",
    "        with open('test.csv', 'a') as f_object:\n",
    "            writer_object = writer(f_object)\n",
    "            data = receive_data()\n",
    "            # Pass the list as an argument into\n",
    "            # the writerow()\n",
    "            writer_object.writerow(data)\n",
    "            #Close the file object\n",
    "            f_object.close()\n",
    "            time.sleep(5)\n",
    "except KeyboardInterrupt:\n",
    "        pass"
   ]
  },
  {
   "cell_type": "code",
   "execution_count": null,
   "id": "e41ed96b",
   "metadata": {},
   "outputs": [],
   "source": []
  }
 ],
 "metadata": {
  "kernelspec": {
   "display_name": "Python 3",
   "language": "python",
   "name": "python3"
  },
  "language_info": {
   "codemirror_mode": {
    "name": "ipython",
    "version": 3
   },
   "file_extension": ".py",
   "mimetype": "text/x-python",
   "name": "python",
   "nbconvert_exporter": "python",
   "pygments_lexer": "ipython3",
   "version": "3.8.8"
  }
 },
 "nbformat": 4,
 "nbformat_minor": 5
}
