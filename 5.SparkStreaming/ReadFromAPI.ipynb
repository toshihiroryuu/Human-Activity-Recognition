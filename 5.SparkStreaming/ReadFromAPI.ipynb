{
 "cells": [
  {
   "cell_type": "code",
   "execution_count": 1,
   "metadata": {},
   "outputs": [],
   "source": [
    "import urllib\n",
    "import urllib.request\n",
    "import json\n",
    "import time\n",
    "import numpy as np\n",
    "from csv import writer\n",
    "from datetime import datetime\n",
    "import pandas as pd"
   ]
  },
  {
   "cell_type": "code",
   "execution_count": 2,
   "metadata": {},
   "outputs": [],
   "source": [
    "#urllib.request.urlopen('https://api.thingspeak.com/update?api_key=R7I8AQE9FRJBYGN9&field1='+str('adsfsf'))"
   ]
  },
  {
   "cell_type": "code",
   "execution_count": 3,
   "metadata": {},
   "outputs": [],
   "source": [
    "# a=urllib.request.urlopen('https://api.thingspeak.com/channels/508740/feeds.json?results=1')\n",
    "# print(a)"
   ]
  },
  {
   "cell_type": "code",
   "execution_count": 4,
   "metadata": {},
   "outputs": [],
   "source": [
    "# c= a.read()\n",
    "# print(c)"
   ]
  },
  {
   "cell_type": "code",
   "execution_count": 5,
   "metadata": {},
   "outputs": [],
   "source": [
    "a=urllib.request.urlopen('https://api.thingspeak.com/channels/508740/feeds.json?results=1').read()\n",
    "res_dict= json.loads(a.decode('utf-8'))"
   ]
  },
  {
   "cell_type": "code",
   "execution_count": 6,
   "metadata": {},
   "outputs": [],
   "source": [
    "mob1= res_dict['channel']['field1']"
   ]
  },
  {
   "cell_type": "code",
   "execution_count": 7,
   "metadata": {},
   "outputs": [
    {
     "data": {
      "text/plain": [
       "'mobile1'"
      ]
     },
     "execution_count": 7,
     "metadata": {},
     "output_type": "execute_result"
    }
   ],
   "source": [
    "mob1"
   ]
  },
  {
   "cell_type": "code",
   "execution_count": 8,
   "metadata": {},
   "outputs": [
    {
     "data": {
      "text/plain": [
       "'mobile1'"
      ]
     },
     "execution_count": 8,
     "metadata": {},
     "output_type": "execute_result"
    }
   ],
   "source": [
    "mobile1 = res_dict['channel']['field1']\n",
    "mobile1"
   ]
  },
  {
   "cell_type": "code",
   "execution_count": 9,
   "metadata": {},
   "outputs": [
    {
     "data": {
      "text/plain": [
       "'1106216.34354_3_0.140_3.322_9.358'"
      ]
     },
     "execution_count": 9,
     "metadata": {},
     "output_type": "execute_result"
    }
   ],
   "source": [
    "mobile1_values = res_dict['feeds'][0]['field1']\n",
    "mobile1_values"
   ]
  },
  {
   "cell_type": "code",
   "execution_count": 10,
   "metadata": {},
   "outputs": [
    {
     "data": {
      "text/plain": [
       "[1106216.34354, 3.0, 0.14, 3.322, 9.358]"
      ]
     },
     "execution_count": 10,
     "metadata": {},
     "output_type": "execute_result"
    }
   ],
   "source": [
    "x=list(map(float, mobile1_values.split('_')))\n",
    "x"
   ]
  },
  {
   "cell_type": "code",
   "execution_count": 11,
   "metadata": {},
   "outputs": [
    {
     "name": "stdout",
     "output_type": "stream",
     "text": [
      "mobile1 accel 9.93113528253442\n"
     ]
    }
   ],
   "source": [
    "i=0\n",
    "for item in x:  \n",
    "    i=i+1\n",
    "    if item==3.0:\n",
    "        acceleros=[x[i],x[i+1],x[i+2]]\n",
    "        sqrt_acceler = np.sqrt(sum(j*j for j in acceleros))\n",
    "        print(mobile1,\"accel\",sqrt_acceler)\n",
    "\n",
    "    if item==4.0:\n",
    "        gyros=[x[i],x[i+1],x[i+2]]\n",
    "        sqrt_gyro = np.sqrt(sum(j*j for j in gyros))\n",
    "        print(mobile1,\"Gyro:\",sqrt_gyro)\n"
   ]
  },
  {
   "cell_type": "code",
   "execution_count": 12,
   "metadata": {},
   "outputs": [],
   "source": [
    "head_cols = ['mobileno', 'dateandtime', 'acc', 'gyro','weight', 'height','gender', 'age']"
   ]
  },
  {
   "cell_type": "code",
   "execution_count": null,
   "metadata": {},
   "outputs": [],
   "source": []
  },
  {
   "cell_type": "code",
   "execution_count": 13,
   "metadata": {},
   "outputs": [],
   "source": [
    "def get_sqrt(mobileno, mobile_values):\n",
    "    sqrt_acceler = 0\n",
    "    sqrt_gyro = 0\n",
    "    \n",
    "    x=list(map(float, mobile_values.split('_')))\n",
    "    i=0\n",
    "    for items in x:  \n",
    "        i=i+1\n",
    "        if items==3.0:\n",
    "            acceleros=[x[i],x[i+1],x[i+2]]\n",
    "            sqrt_acceler = np.sqrt(sum(j*j for j in acceleros))\n",
    "#             print(mobileno,\"accel\",sqrt_acceler)\n",
    "            i=0\n",
    "            \n",
    "        if items==4.0:\n",
    "            gyros=[x[i],x[i+1],x[i+2]]\n",
    "            sqrt_gyro = np.sqrt(sum(j*j for j in gyros))\n",
    "#             print(mobileno,\"Gyro:\",sqrt_gyro)\n",
    "            i=0\n",
    "\n",
    "    return sqrt_acceler, sqrt_gyro "
   ]
  },
  {
   "cell_type": "code",
   "execution_count": 14,
   "metadata": {},
   "outputs": [],
   "source": [
    "def read_data():\n",
    "    # Current date time in local system\n",
    "    dateTimeObj = datetime.now()\n",
    "    now = dateTimeObj.strftime(\"%d-%b-%Y (%H:%M:%S.%f)\")\n",
    "    \n",
    "    weight1 = 65\n",
    "    weight2 = 80\n",
    "    \n",
    "    height1 = 170\n",
    "    height2 = 185\n",
    "    \n",
    "    gender1 = 'M'\n",
    "    gender2 = 'M'\n",
    "    \n",
    "    age1 = 25\n",
    "    age2 = 27\n",
    "    \n",
    "    a=urllib.request.urlopen('https://api.thingspeak.com/channels/508740/feeds.json?results=1').read()\n",
    "    res_dict= json.loads(a.decode('utf-8'))\n",
    "    print(\"Receiving data from url\")\n",
    "    mobile1 = res_dict['channel']['field1']\n",
    "    mobile1_values = res_dict['feeds'][0]['field1']\n",
    "    sqrt_acceler1, sqrt_gyro1 = get_sqrt(mobile1, mobile1_values)\n",
    "#     print(\"got sqrt of accelero:\",sqrt_acceler1,\" and gyro:\", sqrt_gyro1,\"from \",mobile1)\n",
    "    \n",
    "    sqrt_gyro2 = 0\n",
    "    sqrt_acceler2 = 0\n",
    "    mobile2 = res_dict['channel']['field2'] \n",
    "    mobile2_values = res_dict['feeds'][0]['field2']\n",
    "    \n",
    "    if mobile2_values is not None:\n",
    "        sqrt_gyro2, sqrt_acceler2 = get_sqrt(mobile2, mobile2_values)\n",
    "#         print(\"got sqrt of accelero:\",sqrt_acceler2,\" and gyro:\", sqrt_gyro2,\"from \",mobile2)\n",
    "        return sqrt_gyro1, sqrt_acceler1, sqrt_gyro2, sqrt_acceler2\n",
    "    \n",
    "    data1 = [mobile1, now, sqrt_acceler1, sqrt_gyro1, weight1, height1, gender1, age1]\n",
    "    data2 = [mobile2, now, sqrt_acceler2, sqrt_gyro2, weight2, height2, gender2, age2]\n",
    "    return data1, data2"
   ]
  },
  {
   "cell_type": "code",
   "execution_count": 15,
   "metadata": {},
   "outputs": [],
   "source": [
    "# df = pd.DataFrame()"
   ]
  },
  {
   "cell_type": "code",
   "execution_count": 16,
   "metadata": {
    "scrolled": false
   },
   "outputs": [
    {
     "name": "stdout",
     "output_type": "stream",
     "text": [
      "Receiving data from url\n",
      "Data 1: ['mobile1', '12-Jun-2021 (19:42:43.708718)', 9.93113528253442, 0, 65, 170, 'M', 25]\n",
      "Data 2: ['mobile2', '12-Jun-2021 (19:42:43.708718)', 0, 0, 80, 185, 'M', 27]\n",
      "Receiving data from url\n",
      "Data 1: ['mobile1', '12-Jun-2021 (19:42:44.808132)', 9.93113528253442, 0, 65, 170, 'M', 25]\n",
      "Data 2: ['mobile2', '12-Jun-2021 (19:42:44.808132)', 0, 0, 80, 185, 'M', 27]\n",
      "Receiving data from url\n",
      "Data 1: ['mobile1', '12-Jun-2021 (19:42:45.857914)', 9.93113528253442, 0, 65, 170, 'M', 25]\n",
      "Data 2: ['mobile2', '12-Jun-2021 (19:42:45.857914)', 0, 0, 80, 185, 'M', 27]\n",
      "Receiving data from url\n",
      "Data 1: ['mobile1', '12-Jun-2021 (19:42:46.951880)', 9.93113528253442, 0, 65, 170, 'M', 25]\n",
      "Data 2: ['mobile2', '12-Jun-2021 (19:42:46.951880)', 0, 0, 80, 185, 'M', 27]\n",
      "Receiving data from url\n",
      "Data 1: ['mobile1', '12-Jun-2021 (19:42:48.003070)', 9.93113528253442, 0, 65, 170, 'M', 25]\n",
      "Data 2: ['mobile2', '12-Jun-2021 (19:42:48.003070)', 0, 0, 80, 185, 'M', 27]\n",
      "Receiving data from url\n",
      "Data 1: ['mobile1', '12-Jun-2021 (19:42:49.075920)', 9.93113528253442, 0, 65, 170, 'M', 25]\n",
      "Data 2: ['mobile2', '12-Jun-2021 (19:42:49.075920)', 0, 0, 80, 185, 'M', 27]\n",
      "Receiving data from url\n",
      "Data 1: ['mobile1', '12-Jun-2021 (19:42:50.109163)', 9.93113528253442, 0, 65, 170, 'M', 25]\n",
      "Data 2: ['mobile2', '12-Jun-2021 (19:42:50.109163)', 0, 0, 80, 185, 'M', 27]\n",
      "Receiving data from url\n",
      "Data 1: ['mobile1', '12-Jun-2021 (19:42:51.175600)', 9.93113528253442, 0, 65, 170, 'M', 25]\n",
      "Data 2: ['mobile2', '12-Jun-2021 (19:42:51.175600)', 0, 0, 80, 185, 'M', 27]\n",
      "Receiving data from url\n",
      "Data 1: ['mobile1', '12-Jun-2021 (19:42:52.257473)', 9.93113528253442, 0, 65, 170, 'M', 25]\n",
      "Data 2: ['mobile2', '12-Jun-2021 (19:42:52.257473)', 0, 0, 80, 185, 'M', 27]\n",
      "Receiving data from url\n",
      "Data 1: ['mobile1', '12-Jun-2021 (19:42:53.317994)', 9.93113528253442, 0, 65, 170, 'M', 25]\n",
      "Data 2: ['mobile2', '12-Jun-2021 (19:42:53.317994)', 0, 0, 80, 185, 'M', 27]\n",
      "Receiving data from url\n",
      "Data 1: ['mobile1', '12-Jun-2021 (19:42:54.390522)', 9.93113528253442, 0, 65, 170, 'M', 25]\n",
      "Data 2: ['mobile2', '12-Jun-2021 (19:42:54.390522)', 0, 0, 80, 185, 'M', 27]\n",
      "Receiving data from url\n",
      "Data 1: ['mobile1', '12-Jun-2021 (19:42:55.458288)', 9.93113528253442, 0, 65, 170, 'M', 25]\n",
      "Data 2: ['mobile2', '12-Jun-2021 (19:42:55.458288)', 0, 0, 80, 185, 'M', 27]\n",
      "Receiving data from url\n",
      "Data 1: ['mobile1', '12-Jun-2021 (19:42:56.550968)', 9.93113528253442, 0, 65, 170, 'M', 25]\n",
      "Data 2: ['mobile2', '12-Jun-2021 (19:42:56.550968)', 0, 0, 80, 185, 'M', 27]\n",
      "Receiving data from url\n",
      "Data 1: ['mobile1', '12-Jun-2021 (19:42:57.590023)', 9.93113528253442, 0, 65, 170, 'M', 25]\n",
      "Data 2: ['mobile2', '12-Jun-2021 (19:42:57.590023)', 0, 0, 80, 185, 'M', 27]\n",
      "Receiving data from url\n",
      "Data 1: ['mobile1', '12-Jun-2021 (19:42:58.653882)', 9.93113528253442, 0, 65, 170, 'M', 25]\n",
      "Data 2: ['mobile2', '12-Jun-2021 (19:42:58.653882)', 0, 0, 80, 185, 'M', 27]\n",
      "Receiving data from url\n",
      "Data 1: ['mobile1', '12-Jun-2021 (19:42:59.737093)', 9.93113528253442, 0, 65, 170, 'M', 25]\n",
      "Data 2: ['mobile2', '12-Jun-2021 (19:42:59.737093)', 0, 0, 80, 185, 'M', 27]\n",
      "Receiving data from url\n",
      "Data 1: ['mobile1', '12-Jun-2021 (19:43:00.819275)', 9.93113528253442, 0, 65, 170, 'M', 25]\n",
      "Data 2: ['mobile2', '12-Jun-2021 (19:43:00.819275)', 0, 0, 80, 185, 'M', 27]\n",
      "Receiving data from url\n",
      "Data 1: ['mobile1', '12-Jun-2021 (19:43:01.902738)', 9.93113528253442, 0, 65, 170, 'M', 25]\n",
      "Data 2: ['mobile2', '12-Jun-2021 (19:43:01.902738)', 0, 0, 80, 185, 'M', 27]\n",
      "Receiving data from url\n",
      "Data 1: ['mobile1', '12-Jun-2021 (19:43:02.932536)', 9.93113528253442, 0, 65, 170, 'M', 25]\n",
      "Data 2: ['mobile2', '12-Jun-2021 (19:43:02.932536)', 0, 0, 80, 185, 'M', 27]\n",
      "Receiving data from url\n",
      "Data 1: ['mobile1', '12-Jun-2021 (19:43:04.010495)', 9.93113528253442, 0, 65, 170, 'M', 25]\n",
      "Data 2: ['mobile2', '12-Jun-2021 (19:43:04.010495)', 0, 0, 80, 185, 'M', 27]\n",
      "Receiving data from url\n",
      "Data 1: ['mobile1', '12-Jun-2021 (19:43:05.098695)', 9.93113528253442, 0, 65, 170, 'M', 25]\n",
      "Data 2: ['mobile2', '12-Jun-2021 (19:43:05.098695)', 0, 0, 80, 185, 'M', 27]\n",
      "Receiving data from url\n",
      "Data 1: ['mobile1', '12-Jun-2021 (19:43:06.162069)', 9.93113528253442, 0, 65, 170, 'M', 25]\n",
      "Data 2: ['mobile2', '12-Jun-2021 (19:43:06.162069)', 0, 0, 80, 185, 'M', 27]\n",
      "Receiving data from url\n",
      "Data 1: ['mobile1', '12-Jun-2021 (19:43:07.240248)', 9.93113528253442, 0, 65, 170, 'M', 25]\n",
      "Data 2: ['mobile2', '12-Jun-2021 (19:43:07.240248)', 0, 0, 80, 185, 'M', 27]\n",
      "Receiving data from url\n",
      "Data 1: ['mobile1', '12-Jun-2021 (19:43:08.283638)', 9.93113528253442, 0, 65, 170, 'M', 25]\n",
      "Data 2: ['mobile2', '12-Jun-2021 (19:43:08.283638)', 0, 0, 80, 185, 'M', 27]\n",
      "Receiving data from url\n",
      "Data 1: ['mobile1', '12-Jun-2021 (19:43:09.369416)', 9.93113528253442, 0, 65, 170, 'M', 25]\n",
      "Data 2: ['mobile2', '12-Jun-2021 (19:43:09.369416)', 0, 0, 80, 185, 'M', 27]\n",
      "Receiving data from url\n",
      "Data 1: ['mobile1', '12-Jun-2021 (19:43:10.437594)', 9.93113528253442, 0, 65, 170, 'M', 25]\n",
      "Data 2: ['mobile2', '12-Jun-2021 (19:43:10.437594)', 0, 0, 80, 185, 'M', 27]\n",
      "Receiving data from url\n",
      "Data 1: ['mobile1', '12-Jun-2021 (19:43:11.488745)', 9.93113528253442, 0, 65, 170, 'M', 25]\n",
      "Data 2: ['mobile2', '12-Jun-2021 (19:43:11.488745)', 0, 0, 80, 185, 'M', 27]\n",
      "Receiving data from url\n",
      "Data 1: ['mobile1', '12-Jun-2021 (19:43:12.538995)', 9.93113528253442, 0, 65, 170, 'M', 25]\n",
      "Data 2: ['mobile2', '12-Jun-2021 (19:43:12.538995)', 0, 0, 80, 185, 'M', 27]\n",
      "Receiving data from url\n",
      "Data 1: ['mobile1', '12-Jun-2021 (19:43:13.600626)', 9.93113528253442, 0, 65, 170, 'M', 25]\n",
      "Data 2: ['mobile2', '12-Jun-2021 (19:43:13.600626)', 0, 0, 80, 185, 'M', 27]\n",
      "Receiving data from url\n",
      "Data 1: ['mobile1', '12-Jun-2021 (19:43:19.651155)', 9.93113528253442, 0, 65, 170, 'M', 25]\n",
      "Data 2: ['mobile2', '12-Jun-2021 (19:43:19.651155)', 0, 0, 80, 185, 'M', 27]\n",
      "Receiving data from url\n",
      "Data 1: ['mobile1', '12-Jun-2021 (19:43:25.713917)', 9.93113528253442, 0, 65, 170, 'M', 25]\n",
      "Data 2: ['mobile2', '12-Jun-2021 (19:43:25.713917)', 0, 0, 80, 185, 'M', 27]\n",
      "Receiving data from url\n",
      "Data 1: ['mobile1', '12-Jun-2021 (19:43:26.810932)', 9.93113528253442, 0, 65, 170, 'M', 25]\n",
      "Data 2: ['mobile2', '12-Jun-2021 (19:43:26.810932)', 0, 0, 80, 185, 'M', 27]\n",
      "Receiving data from url\n",
      "Data 1: ['mobile1', '12-Jun-2021 (19:43:27.895321)', 9.93113528253442, 0, 65, 170, 'M', 25]\n",
      "Data 2: ['mobile2', '12-Jun-2021 (19:43:27.895321)', 0, 0, 80, 185, 'M', 27]\n",
      "Receiving data from url\n",
      "Data 1: ['mobile1', '12-Jun-2021 (19:43:28.985655)', 9.93113528253442, 0, 65, 170, 'M', 25]\n",
      "Data 2: ['mobile2', '12-Jun-2021 (19:43:28.985655)', 0, 0, 80, 185, 'M', 27]\n",
      "Receiving data from url\n",
      "Data 1: ['mobile1', '12-Jun-2021 (19:43:30.057138)', 9.93113528253442, 0, 65, 170, 'M', 25]\n",
      "Data 2: ['mobile2', '12-Jun-2021 (19:43:30.057138)', 0, 0, 80, 185, 'M', 27]\n",
      "Receiving data from url\n",
      "Data 1: ['mobile1', '12-Jun-2021 (19:43:31.121322)', 9.93113528253442, 0, 65, 170, 'M', 25]\n",
      "Data 2: ['mobile2', '12-Jun-2021 (19:43:31.121322)', 0, 0, 80, 185, 'M', 27]\n",
      "Receiving data from url\n",
      "Data 1: ['mobile1', '12-Jun-2021 (19:43:32.208517)', 9.93113528253442, 0, 65, 170, 'M', 25]\n",
      "Data 2: ['mobile2', '12-Jun-2021 (19:43:32.208517)', 0, 0, 80, 185, 'M', 27]\n",
      "Receiving data from url\n",
      "Data 1: ['mobile1', '12-Jun-2021 (19:43:33.325651)', 9.93113528253442, 0, 65, 170, 'M', 25]\n",
      "Data 2: ['mobile2', '12-Jun-2021 (19:43:33.325651)', 0, 0, 80, 185, 'M', 27]\n",
      "Receiving data from url\n",
      "Data 1: ['mobile1', '12-Jun-2021 (19:43:34.641308)', 9.93113528253442, 0, 65, 170, 'M', 25]\n",
      "Data 2: ['mobile2', '12-Jun-2021 (19:43:34.641308)', 0, 0, 80, 185, 'M', 27]\n",
      "Receiving data from url\n",
      "Data 1: ['mobile1', '12-Jun-2021 (19:43:35.703119)', 9.93113528253442, 0, 65, 170, 'M', 25]\n",
      "Data 2: ['mobile2', '12-Jun-2021 (19:43:35.703119)', 0, 0, 80, 185, 'M', 27]\n",
      "Receiving data from url\n",
      "Data 1: ['mobile1', '12-Jun-2021 (19:43:36.801385)', 9.93113528253442, 0, 65, 170, 'M', 25]\n",
      "Data 2: ['mobile2', '12-Jun-2021 (19:43:36.801385)', 0, 0, 80, 185, 'M', 27]\n",
      "Receiving data from url\n",
      "Data 1: ['mobile1', '12-Jun-2021 (19:43:37.887068)', 9.93113528253442, 0, 65, 170, 'M', 25]\n",
      "Data 2: ['mobile2', '12-Jun-2021 (19:43:37.887068)', 0, 0, 80, 185, 'M', 27]\n",
      "Receiving data from url\n",
      "Data 1: ['mobile1', '12-Jun-2021 (19:43:38.959390)', 9.93113528253442, 0, 65, 170, 'M', 25]\n",
      "Data 2: ['mobile2', '12-Jun-2021 (19:43:38.959390)', 0, 0, 80, 185, 'M', 27]\n"
     ]
    },
    {
     "name": "stdout",
     "output_type": "stream",
     "text": [
      "Receiving data from url\n",
      "Data 1: ['mobile1', '12-Jun-2021 (19:43:40.012888)', 9.93113528253442, 0, 65, 170, 'M', 25]\n",
      "Data 2: ['mobile2', '12-Jun-2021 (19:43:40.012888)', 0, 0, 80, 185, 'M', 27]\n",
      "Receiving data from url\n",
      "Data 1: ['mobile1', '12-Jun-2021 (19:43:41.083585)', 9.93113528253442, 0, 65, 170, 'M', 25]\n",
      "Data 2: ['mobile2', '12-Jun-2021 (19:43:41.083585)', 0, 0, 80, 185, 'M', 27]\n",
      "Receiving data from url\n",
      "Data 1: ['mobile1', '12-Jun-2021 (19:43:42.169965)', 9.93113528253442, 0, 65, 170, 'M', 25]\n",
      "Data 2: ['mobile2', '12-Jun-2021 (19:43:42.169965)', 0, 0, 80, 185, 'M', 27]\n",
      "Receiving data from url\n",
      "Data 1: ['mobile1', '12-Jun-2021 (19:43:43.279202)', 9.93113528253442, 0, 65, 170, 'M', 25]\n",
      "Data 2: ['mobile2', '12-Jun-2021 (19:43:43.279202)', 0, 0, 80, 185, 'M', 27]\n",
      "Receiving data from url\n",
      "Data 1: ['mobile1', '12-Jun-2021 (19:43:44.576155)', 9.93113528253442, 0, 65, 170, 'M', 25]\n",
      "Data 2: ['mobile2', '12-Jun-2021 (19:43:44.576155)', 0, 0, 80, 185, 'M', 27]\n",
      "Receiving data from url\n",
      "Data 1: ['mobile1', '12-Jun-2021 (19:43:45.794108)', 9.93113528253442, 0, 65, 170, 'M', 25]\n",
      "Data 2: ['mobile2', '12-Jun-2021 (19:43:45.794108)', 0, 0, 80, 185, 'M', 27]\n",
      "Receiving data from url\n",
      "Data 1: ['mobile1', '12-Jun-2021 (19:43:47.029649)', 9.93113528253442, 0, 65, 170, 'M', 25]\n",
      "Data 2: ['mobile2', '12-Jun-2021 (19:43:47.029649)', 0, 0, 80, 185, 'M', 27]\n",
      "Receiving data from url\n",
      "Data 1: ['mobile1', '12-Jun-2021 (19:43:48.255570)', 9.93113528253442, 0, 65, 170, 'M', 25]\n",
      "Data 2: ['mobile2', '12-Jun-2021 (19:43:48.255570)', 0, 0, 80, 185, 'M', 27]\n",
      "Receiving data from url\n",
      "Data 1: ['mobile1', '12-Jun-2021 (19:43:50.035007)', 9.93113528253442, 0, 65, 170, 'M', 25]\n",
      "Data 2: ['mobile2', '12-Jun-2021 (19:43:50.035007)', 0, 0, 80, 185, 'M', 27]\n",
      "Receiving data from url\n",
      "Data 1: ['mobile1', '12-Jun-2021 (19:43:51.070407)', 9.93113528253442, 0, 65, 170, 'M', 25]\n",
      "Data 2: ['mobile2', '12-Jun-2021 (19:43:51.070407)', 0, 0, 80, 185, 'M', 27]\n",
      "Receiving data from url\n",
      "Data 1: ['mobile1', '12-Jun-2021 (19:43:52.244223)', 9.93113528253442, 0, 65, 170, 'M', 25]\n",
      "Data 2: ['mobile2', '12-Jun-2021 (19:43:52.244223)', 0, 0, 80, 185, 'M', 27]\n",
      "Receiving data from url\n",
      "Data 1: ['mobile1', '12-Jun-2021 (19:43:53.313776)', 9.93113528253442, 0, 65, 170, 'M', 25]\n",
      "Data 2: ['mobile2', '12-Jun-2021 (19:43:53.313776)', 0, 0, 80, 185, 'M', 27]\n",
      "Receiving data from url\n",
      "Data 1: ['mobile1', '12-Jun-2021 (19:43:54.367346)', 9.93113528253442, 0, 65, 170, 'M', 25]\n",
      "Data 2: ['mobile2', '12-Jun-2021 (19:43:54.367346)', 0, 0, 80, 185, 'M', 27]\n",
      "Receiving data from url\n",
      "Data 1: ['mobile1', '12-Jun-2021 (19:43:55.455543)', 9.93113528253442, 0, 65, 170, 'M', 25]\n",
      "Data 2: ['mobile2', '12-Jun-2021 (19:43:55.455543)', 0, 0, 80, 185, 'M', 27]\n",
      "Receiving data from url\n",
      "Data 1: ['mobile1', '12-Jun-2021 (19:43:56.605460)', 9.93113528253442, 0, 65, 170, 'M', 25]\n",
      "Data 2: ['mobile2', '12-Jun-2021 (19:43:56.605460)', 0, 0, 80, 185, 'M', 27]\n",
      "Receiving data from url\n",
      "Data 1: ['mobile1', '12-Jun-2021 (19:44:02.667338)', 9.93113528253442, 0, 65, 170, 'M', 25]\n",
      "Data 2: ['mobile2', '12-Jun-2021 (19:44:02.667338)', 0, 0, 80, 185, 'M', 27]\n",
      "Receiving data from url\n",
      "Data 1: ['mobile1', '12-Jun-2021 (19:44:08.713394)', 9.93113528253442, 0, 65, 170, 'M', 25]\n",
      "Data 2: ['mobile2', '12-Jun-2021 (19:44:08.713394)', 0, 0, 80, 185, 'M', 27]\n",
      "Receiving data from url\n",
      "Data 1: ['mobile1', '12-Jun-2021 (19:44:09.815241)', 9.93113528253442, 0, 65, 170, 'M', 25]\n",
      "Data 2: ['mobile2', '12-Jun-2021 (19:44:09.815241)', 0, 0, 80, 185, 'M', 27]\n",
      "Receiving data from url\n",
      "Data 1: ['mobile1', '12-Jun-2021 (19:44:10.963970)', 9.93113528253442, 0, 65, 170, 'M', 25]\n",
      "Data 2: ['mobile2', '12-Jun-2021 (19:44:10.963970)', 0, 0, 80, 185, 'M', 27]\n",
      "Receiving data from url\n",
      "Data 1: ['mobile1', '12-Jun-2021 (19:44:12.038980)', 9.93113528253442, 0, 65, 170, 'M', 25]\n",
      "Data 2: ['mobile2', '12-Jun-2021 (19:44:12.038980)', 0, 0, 80, 185, 'M', 27]\n",
      "Receiving data from url\n",
      "Data 1: ['mobile1', '12-Jun-2021 (19:44:13.144710)', 9.93113528253442, 0, 65, 170, 'M', 25]\n",
      "Data 2: ['mobile2', '12-Jun-2021 (19:44:13.144710)', 0, 0, 80, 185, 'M', 27]\n",
      "Receiving data from url\n",
      "Data 1: ['mobile1', '12-Jun-2021 (19:44:14.218668)', 9.93113528253442, 0, 65, 170, 'M', 25]\n",
      "Data 2: ['mobile2', '12-Jun-2021 (19:44:14.218668)', 0, 0, 80, 185, 'M', 27]\n",
      "Receiving data from url\n",
      "Data 1: ['mobile1', '12-Jun-2021 (19:44:15.312796)', 9.93113528253442, 0, 65, 170, 'M', 25]\n",
      "Data 2: ['mobile2', '12-Jun-2021 (19:44:15.312796)', 0, 0, 80, 185, 'M', 27]\n",
      "Receiving data from url\n",
      "Data 1: ['mobile1', '12-Jun-2021 (19:44:16.349711)', 9.93113528253442, 0, 65, 170, 'M', 25]\n",
      "Data 2: ['mobile2', '12-Jun-2021 (19:44:16.349711)', 0, 0, 80, 185, 'M', 27]\n",
      "Receiving data from url\n",
      "Data 1: ['mobile1', '12-Jun-2021 (19:44:17.435135)', 9.93113528253442, 0, 65, 170, 'M', 25]\n",
      "Data 2: ['mobile2', '12-Jun-2021 (19:44:17.435135)', 0, 0, 80, 185, 'M', 27]\n",
      "Receiving data from url\n",
      "Data 1: ['mobile1', '12-Jun-2021 (19:44:18.481834)', 9.93113528253442, 0, 65, 170, 'M', 25]\n",
      "Data 2: ['mobile2', '12-Jun-2021 (19:44:18.481834)', 0, 0, 80, 185, 'M', 27]\n",
      "Receiving data from url\n",
      "Data 1: ['mobile1', '12-Jun-2021 (19:44:19.576462)', 9.93113528253442, 0, 65, 170, 'M', 25]\n",
      "Data 2: ['mobile2', '12-Jun-2021 (19:44:19.576462)', 0, 0, 80, 185, 'M', 27]\n",
      "Receiving data from url\n",
      "Data 1: ['mobile1', '12-Jun-2021 (19:44:20.647548)', 9.93113528253442, 0, 65, 170, 'M', 25]\n",
      "Data 2: ['mobile2', '12-Jun-2021 (19:44:20.647548)', 0, 0, 80, 185, 'M', 27]\n",
      "Receiving data from url\n",
      "Data 1: ['mobile1', '12-Jun-2021 (19:44:21.722195)', 9.93113528253442, 0, 65, 170, 'M', 25]\n",
      "Data 2: ['mobile2', '12-Jun-2021 (19:44:21.722195)', 0, 0, 80, 185, 'M', 27]\n",
      "Receiving data from url\n",
      "Data 1: ['mobile1', '12-Jun-2021 (19:44:23.090313)', 9.93113528253442, 0, 65, 170, 'M', 25]\n",
      "Data 2: ['mobile2', '12-Jun-2021 (19:44:23.090313)', 0, 0, 80, 185, 'M', 27]\n",
      "Receiving data from url\n",
      "Data 1: ['mobile1', '12-Jun-2021 (19:44:24.158751)', 9.93113528253442, 0, 65, 170, 'M', 25]\n",
      "Data 2: ['mobile2', '12-Jun-2021 (19:44:24.158751)', 0, 0, 80, 185, 'M', 27]\n",
      "Receiving data from url\n",
      "Data 1: ['mobile1', '12-Jun-2021 (19:44:25.231188)', 9.93113528253442, 0, 65, 170, 'M', 25]\n",
      "Data 2: ['mobile2', '12-Jun-2021 (19:44:25.231188)', 0, 0, 80, 185, 'M', 27]\n",
      "Receiving data from url\n",
      "Data 1: ['mobile1', '12-Jun-2021 (19:44:26.309622)', 9.93113528253442, 0, 65, 170, 'M', 25]\n",
      "Data 2: ['mobile2', '12-Jun-2021 (19:44:26.309622)', 0, 0, 80, 185, 'M', 27]\n",
      "Receiving data from url\n",
      "Data 1: ['mobile1', '12-Jun-2021 (19:44:27.399610)', 9.93113528253442, 0, 65, 170, 'M', 25]\n",
      "Data 2: ['mobile2', '12-Jun-2021 (19:44:27.399610)', 0, 0, 80, 185, 'M', 27]\n",
      "Receiving data from url\n",
      "Data 1: ['mobile1', '12-Jun-2021 (19:44:28.471356)', 9.93113528253442, 0, 65, 170, 'M', 25]\n",
      "Data 2: ['mobile2', '12-Jun-2021 (19:44:28.471356)', 0, 0, 80, 185, 'M', 27]\n",
      "Receiving data from url\n",
      "Data 1: ['mobile1', '12-Jun-2021 (19:44:29.546740)', 9.93113528253442, 0, 65, 170, 'M', 25]\n",
      "Data 2: ['mobile2', '12-Jun-2021 (19:44:29.546740)', 0, 0, 80, 185, 'M', 27]\n",
      "Receiving data from url\n",
      "Data 1: ['mobile1', '12-Jun-2021 (19:44:30.635099)', 9.93113528253442, 0, 65, 170, 'M', 25]\n",
      "Data 2: ['mobile2', '12-Jun-2021 (19:44:30.635099)', 0, 0, 80, 185, 'M', 27]\n",
      "Receiving data from url\n",
      "Data 1: ['mobile1', '12-Jun-2021 (19:44:31.701394)', 9.93113528253442, 0, 65, 170, 'M', 25]\n",
      "Data 2: ['mobile2', '12-Jun-2021 (19:44:31.701394)', 0, 0, 80, 185, 'M', 27]\n",
      "Receiving data from url\n",
      "Data 1: ['mobile1', '12-Jun-2021 (19:44:32.809598)', 9.93113528253442, 0, 65, 170, 'M', 25]\n",
      "Data 2: ['mobile2', '12-Jun-2021 (19:44:32.809598)', 0, 0, 80, 185, 'M', 27]\n",
      "Receiving data from url\n",
      "Data 1: ['mobile1', '12-Jun-2021 (19:44:34.112602)', 9.93113528253442, 0, 65, 170, 'M', 25]\n",
      "Data 2: ['mobile2', '12-Jun-2021 (19:44:34.112602)', 0, 0, 80, 185, 'M', 27]\n",
      "Receiving data from url\n",
      "Data 1: ['mobile1', '12-Jun-2021 (19:44:35.231342)', 9.93113528253442, 0, 65, 170, 'M', 25]\n",
      "Data 2: ['mobile2', '12-Jun-2021 (19:44:35.231342)', 0, 0, 80, 185, 'M', 27]\n",
      "Receiving data from url\n",
      "Data 1: ['mobile1', '12-Jun-2021 (19:44:36.323563)', 9.93113528253442, 0, 65, 170, 'M', 25]\n",
      "Data 2: ['mobile2', '12-Jun-2021 (19:44:36.323563)', 0, 0, 80, 185, 'M', 27]\n",
      "Receiving data from url\n",
      "Data 1: ['mobile1', '12-Jun-2021 (19:44:37.398838)', 9.93113528253442, 0, 65, 170, 'M', 25]\n",
      "Data 2: ['mobile2', '12-Jun-2021 (19:44:37.398838)', 0, 0, 80, 185, 'M', 27]\n"
     ]
    },
    {
     "name": "stdout",
     "output_type": "stream",
     "text": [
      "Receiving data from url\n",
      "Data 1: ['mobile1', '12-Jun-2021 (19:44:38.450416)', 9.93113528253442, 0, 65, 170, 'M', 25]\n",
      "Data 2: ['mobile2', '12-Jun-2021 (19:44:38.450416)', 0, 0, 80, 185, 'M', 27]\n",
      "Receiving data from url\n",
      "Data 1: ['mobile1', '12-Jun-2021 (19:44:39.541991)', 9.93113528253442, 0, 65, 170, 'M', 25]\n",
      "Data 2: ['mobile2', '12-Jun-2021 (19:44:39.541991)', 0, 0, 80, 185, 'M', 27]\n",
      "Receiving data from url\n",
      "Data 1: ['mobile1', '12-Jun-2021 (19:44:45.601745)', 9.93113528253442, 0, 65, 170, 'M', 25]\n",
      "Data 2: ['mobile2', '12-Jun-2021 (19:44:45.601745)', 0, 0, 80, 185, 'M', 27]\n",
      "Receiving data from url\n",
      "Data 1: ['mobile1', '12-Jun-2021 (19:44:51.662395)', 9.93113528253442, 0, 65, 170, 'M', 25]\n",
      "Data 2: ['mobile2', '12-Jun-2021 (19:44:51.662395)', 0, 0, 80, 185, 'M', 27]\n",
      "Receiving data from url\n",
      "Data 1: ['mobile1', '12-Jun-2021 (19:44:52.767793)', 9.93113528253442, 0, 65, 170, 'M', 25]\n",
      "Data 2: ['mobile2', '12-Jun-2021 (19:44:52.767793)', 0, 0, 80, 185, 'M', 27]\n",
      "Receiving data from url\n",
      "Data 1: ['mobile1', '12-Jun-2021 (19:44:53.844822)', 9.93113528253442, 0, 65, 170, 'M', 25]\n",
      "Data 2: ['mobile2', '12-Jun-2021 (19:44:53.844822)', 0, 0, 80, 185, 'M', 27]\n",
      "Receiving data from url\n",
      "Data 1: ['mobile1', '12-Jun-2021 (19:44:54.916334)', 9.93113528253442, 0, 65, 170, 'M', 25]\n",
      "Data 2: ['mobile2', '12-Jun-2021 (19:44:54.916334)', 0, 0, 80, 185, 'M', 27]\n",
      "Receiving data from url\n",
      "Data 1: ['mobile1', '12-Jun-2021 (19:44:56.243511)', 9.93113528253442, 0, 65, 170, 'M', 25]\n",
      "Data 2: ['mobile2', '12-Jun-2021 (19:44:56.243511)', 0, 0, 80, 185, 'M', 27]\n",
      "Receiving data from url\n",
      "Data 1: ['mobile1', '12-Jun-2021 (19:44:57.309926)', 9.93113528253442, 0, 65, 170, 'M', 25]\n",
      "Data 2: ['mobile2', '12-Jun-2021 (19:44:57.309926)', 0, 0, 80, 185, 'M', 27]\n",
      "Receiving data from url\n",
      "Data 1: ['mobile1', '12-Jun-2021 (19:44:58.908193)', 9.93113528253442, 0, 65, 170, 'M', 25]\n",
      "Data 2: ['mobile2', '12-Jun-2021 (19:44:58.908193)', 0, 0, 80, 185, 'M', 27]\n",
      "Receiving data from url\n",
      "Data 1: ['mobile1', '12-Jun-2021 (19:45:00.028444)', 9.93113528253442, 0, 65, 170, 'M', 25]\n",
      "Data 2: ['mobile2', '12-Jun-2021 (19:45:00.028444)', 0, 0, 80, 185, 'M', 27]\n",
      "Receiving data from url\n",
      "Data 1: ['mobile1', '12-Jun-2021 (19:45:01.109315)', 9.93113528253442, 0, 65, 170, 'M', 25]\n",
      "Data 2: ['mobile2', '12-Jun-2021 (19:45:01.109315)', 0, 0, 80, 185, 'M', 27]\n",
      "Receiving data from url\n",
      "Data 1: ['mobile1', '12-Jun-2021 (19:45:02.267386)', 9.93113528253442, 0, 65, 170, 'M', 25]\n",
      "Data 2: ['mobile2', '12-Jun-2021 (19:45:02.267386)', 0, 0, 80, 185, 'M', 27]\n",
      "Receiving data from url\n",
      "Data 1: ['mobile1', '12-Jun-2021 (19:45:03.338694)', 9.93113528253442, 0, 65, 170, 'M', 25]\n",
      "Data 2: ['mobile2', '12-Jun-2021 (19:45:03.338694)', 0, 0, 80, 185, 'M', 27]\n",
      "Receiving data from url\n",
      "Data 1: ['mobile1', '12-Jun-2021 (19:45:04.500903)', 9.93113528253442, 0, 65, 170, 'M', 25]\n",
      "Data 2: ['mobile2', '12-Jun-2021 (19:45:04.500903)', 0, 0, 80, 185, 'M', 27]\n",
      "Receiving data from url\n",
      "Data 1: ['mobile1', '12-Jun-2021 (19:45:05.555558)', 9.93113528253442, 0, 65, 170, 'M', 25]\n",
      "Data 2: ['mobile2', '12-Jun-2021 (19:45:05.555558)', 0, 0, 80, 185, 'M', 27]\n",
      "Receiving data from url\n",
      "Data 1: ['mobile1', '12-Jun-2021 (19:45:06.623530)', 9.93113528253442, 0, 65, 170, 'M', 25]\n",
      "Data 2: ['mobile2', '12-Jun-2021 (19:45:06.623530)', 0, 0, 80, 185, 'M', 27]\n",
      "Receiving data from url\n",
      "Data 1: ['mobile1', '12-Jun-2021 (19:45:07.701102)', 9.93113528253442, 0, 65, 170, 'M', 25]\n",
      "Data 2: ['mobile2', '12-Jun-2021 (19:45:07.701102)', 0, 0, 80, 185, 'M', 27]\n"
     ]
    },
    {
     "ename": "KeyboardInterrupt",
     "evalue": "",
     "output_type": "error",
     "traceback": [
      "\u001b[0;31m---------------------------------------------------------------------------\u001b[0m",
      "\u001b[0;31mKeyboardInterrupt\u001b[0m                         Traceback (most recent call last)",
      "\u001b[0;32m<ipython-input-16-e8b3c24e7960>\u001b[0m in \u001b[0;36m<module>\u001b[0;34m\u001b[0m\n\u001b[1;32m      3\u001b[0m \u001b[0;31m#     time.sleep(2)\u001b[0m\u001b[0;34m\u001b[0m\u001b[0;34m\u001b[0m\u001b[0;34m\u001b[0m\u001b[0m\n\u001b[1;32m      4\u001b[0m     \u001b[0mi\u001b[0m\u001b[0;34m=\u001b[0m\u001b[0mi\u001b[0m\u001b[0;34m+\u001b[0m\u001b[0;36m1\u001b[0m\u001b[0;34m\u001b[0m\u001b[0;34m\u001b[0m\u001b[0m\n\u001b[0;32m----> 5\u001b[0;31m     \u001b[0mdata1\u001b[0m\u001b[0;34m,\u001b[0m \u001b[0mdata2\u001b[0m \u001b[0;34m=\u001b[0m \u001b[0mread_data\u001b[0m\u001b[0;34m(\u001b[0m\u001b[0;34m)\u001b[0m\u001b[0;34m\u001b[0m\u001b[0;34m\u001b[0m\u001b[0m\n\u001b[0m\u001b[1;32m      6\u001b[0m     \u001b[0mprint\u001b[0m\u001b[0;34m(\u001b[0m\u001b[0;34m\"Data 1:\"\u001b[0m\u001b[0;34m,\u001b[0m\u001b[0mdata1\u001b[0m\u001b[0;34m)\u001b[0m\u001b[0;34m\u001b[0m\u001b[0;34m\u001b[0m\u001b[0m\n\u001b[1;32m      7\u001b[0m     \u001b[0mprint\u001b[0m\u001b[0;34m(\u001b[0m\u001b[0;34m\"Data 2:\"\u001b[0m\u001b[0;34m,\u001b[0m\u001b[0mdata2\u001b[0m\u001b[0;34m)\u001b[0m\u001b[0;34m\u001b[0m\u001b[0;34m\u001b[0m\u001b[0m\n",
      "\u001b[0;32m<ipython-input-14-6bdc9798c37b>\u001b[0m in \u001b[0;36mread_data\u001b[0;34m()\u001b[0m\n\u001b[1;32m     16\u001b[0m     \u001b[0mage2\u001b[0m \u001b[0;34m=\u001b[0m \u001b[0;36m27\u001b[0m\u001b[0;34m\u001b[0m\u001b[0;34m\u001b[0m\u001b[0m\n\u001b[1;32m     17\u001b[0m \u001b[0;34m\u001b[0m\u001b[0m\n\u001b[0;32m---> 18\u001b[0;31m     \u001b[0ma\u001b[0m\u001b[0;34m=\u001b[0m\u001b[0murllib\u001b[0m\u001b[0;34m.\u001b[0m\u001b[0mrequest\u001b[0m\u001b[0;34m.\u001b[0m\u001b[0murlopen\u001b[0m\u001b[0;34m(\u001b[0m\u001b[0;34m'https://api.thingspeak.com/channels/508740/feeds.json?results=1'\u001b[0m\u001b[0;34m)\u001b[0m\u001b[0;34m.\u001b[0m\u001b[0mread\u001b[0m\u001b[0;34m(\u001b[0m\u001b[0;34m)\u001b[0m\u001b[0;34m\u001b[0m\u001b[0;34m\u001b[0m\u001b[0m\n\u001b[0m\u001b[1;32m     19\u001b[0m     \u001b[0mres_dict\u001b[0m\u001b[0;34m=\u001b[0m \u001b[0mjson\u001b[0m\u001b[0;34m.\u001b[0m\u001b[0mloads\u001b[0m\u001b[0;34m(\u001b[0m\u001b[0ma\u001b[0m\u001b[0;34m.\u001b[0m\u001b[0mdecode\u001b[0m\u001b[0;34m(\u001b[0m\u001b[0;34m'utf-8'\u001b[0m\u001b[0;34m)\u001b[0m\u001b[0;34m)\u001b[0m\u001b[0;34m\u001b[0m\u001b[0;34m\u001b[0m\u001b[0m\n\u001b[1;32m     20\u001b[0m     \u001b[0mprint\u001b[0m\u001b[0;34m(\u001b[0m\u001b[0;34m\"Receiving data from url\"\u001b[0m\u001b[0;34m)\u001b[0m\u001b[0;34m\u001b[0m\u001b[0;34m\u001b[0m\u001b[0m\n",
      "\u001b[0;32m/opt/conda/lib/python3.8/urllib/request.py\u001b[0m in \u001b[0;36murlopen\u001b[0;34m(url, data, timeout, cafile, capath, cadefault, context)\u001b[0m\n\u001b[1;32m    220\u001b[0m     \u001b[0;32melse\u001b[0m\u001b[0;34m:\u001b[0m\u001b[0;34m\u001b[0m\u001b[0;34m\u001b[0m\u001b[0m\n\u001b[1;32m    221\u001b[0m         \u001b[0mopener\u001b[0m \u001b[0;34m=\u001b[0m \u001b[0m_opener\u001b[0m\u001b[0;34m\u001b[0m\u001b[0;34m\u001b[0m\u001b[0m\n\u001b[0;32m--> 222\u001b[0;31m     \u001b[0;32mreturn\u001b[0m \u001b[0mopener\u001b[0m\u001b[0;34m.\u001b[0m\u001b[0mopen\u001b[0m\u001b[0;34m(\u001b[0m\u001b[0murl\u001b[0m\u001b[0;34m,\u001b[0m \u001b[0mdata\u001b[0m\u001b[0;34m,\u001b[0m \u001b[0mtimeout\u001b[0m\u001b[0;34m)\u001b[0m\u001b[0;34m\u001b[0m\u001b[0;34m\u001b[0m\u001b[0m\n\u001b[0m\u001b[1;32m    223\u001b[0m \u001b[0;34m\u001b[0m\u001b[0m\n\u001b[1;32m    224\u001b[0m \u001b[0;32mdef\u001b[0m \u001b[0minstall_opener\u001b[0m\u001b[0;34m(\u001b[0m\u001b[0mopener\u001b[0m\u001b[0;34m)\u001b[0m\u001b[0;34m:\u001b[0m\u001b[0;34m\u001b[0m\u001b[0;34m\u001b[0m\u001b[0m\n",
      "\u001b[0;32m/opt/conda/lib/python3.8/urllib/request.py\u001b[0m in \u001b[0;36mopen\u001b[0;34m(self, fullurl, data, timeout)\u001b[0m\n\u001b[1;32m    523\u001b[0m \u001b[0;34m\u001b[0m\u001b[0m\n\u001b[1;32m    524\u001b[0m         \u001b[0msys\u001b[0m\u001b[0;34m.\u001b[0m\u001b[0maudit\u001b[0m\u001b[0;34m(\u001b[0m\u001b[0;34m'urllib.Request'\u001b[0m\u001b[0;34m,\u001b[0m \u001b[0mreq\u001b[0m\u001b[0;34m.\u001b[0m\u001b[0mfull_url\u001b[0m\u001b[0;34m,\u001b[0m \u001b[0mreq\u001b[0m\u001b[0;34m.\u001b[0m\u001b[0mdata\u001b[0m\u001b[0;34m,\u001b[0m \u001b[0mreq\u001b[0m\u001b[0;34m.\u001b[0m\u001b[0mheaders\u001b[0m\u001b[0;34m,\u001b[0m \u001b[0mreq\u001b[0m\u001b[0;34m.\u001b[0m\u001b[0mget_method\u001b[0m\u001b[0;34m(\u001b[0m\u001b[0;34m)\u001b[0m\u001b[0;34m)\u001b[0m\u001b[0;34m\u001b[0m\u001b[0;34m\u001b[0m\u001b[0m\n\u001b[0;32m--> 525\u001b[0;31m         \u001b[0mresponse\u001b[0m \u001b[0;34m=\u001b[0m \u001b[0mself\u001b[0m\u001b[0;34m.\u001b[0m\u001b[0m_open\u001b[0m\u001b[0;34m(\u001b[0m\u001b[0mreq\u001b[0m\u001b[0;34m,\u001b[0m \u001b[0mdata\u001b[0m\u001b[0;34m)\u001b[0m\u001b[0;34m\u001b[0m\u001b[0;34m\u001b[0m\u001b[0m\n\u001b[0m\u001b[1;32m    526\u001b[0m \u001b[0;34m\u001b[0m\u001b[0m\n\u001b[1;32m    527\u001b[0m         \u001b[0;31m# post-process response\u001b[0m\u001b[0;34m\u001b[0m\u001b[0;34m\u001b[0m\u001b[0;34m\u001b[0m\u001b[0m\n",
      "\u001b[0;32m/opt/conda/lib/python3.8/urllib/request.py\u001b[0m in \u001b[0;36m_open\u001b[0;34m(self, req, data)\u001b[0m\n\u001b[1;32m    540\u001b[0m \u001b[0;34m\u001b[0m\u001b[0m\n\u001b[1;32m    541\u001b[0m         \u001b[0mprotocol\u001b[0m \u001b[0;34m=\u001b[0m \u001b[0mreq\u001b[0m\u001b[0;34m.\u001b[0m\u001b[0mtype\u001b[0m\u001b[0;34m\u001b[0m\u001b[0;34m\u001b[0m\u001b[0m\n\u001b[0;32m--> 542\u001b[0;31m         result = self._call_chain(self.handle_open, protocol, protocol +\n\u001b[0m\u001b[1;32m    543\u001b[0m                                   '_open', req)\n\u001b[1;32m    544\u001b[0m         \u001b[0;32mif\u001b[0m \u001b[0mresult\u001b[0m\u001b[0;34m:\u001b[0m\u001b[0;34m\u001b[0m\u001b[0;34m\u001b[0m\u001b[0m\n",
      "\u001b[0;32m/opt/conda/lib/python3.8/urllib/request.py\u001b[0m in \u001b[0;36m_call_chain\u001b[0;34m(self, chain, kind, meth_name, *args)\u001b[0m\n\u001b[1;32m    500\u001b[0m         \u001b[0;32mfor\u001b[0m \u001b[0mhandler\u001b[0m \u001b[0;32min\u001b[0m \u001b[0mhandlers\u001b[0m\u001b[0;34m:\u001b[0m\u001b[0;34m\u001b[0m\u001b[0;34m\u001b[0m\u001b[0m\n\u001b[1;32m    501\u001b[0m             \u001b[0mfunc\u001b[0m \u001b[0;34m=\u001b[0m \u001b[0mgetattr\u001b[0m\u001b[0;34m(\u001b[0m\u001b[0mhandler\u001b[0m\u001b[0;34m,\u001b[0m \u001b[0mmeth_name\u001b[0m\u001b[0;34m)\u001b[0m\u001b[0;34m\u001b[0m\u001b[0;34m\u001b[0m\u001b[0m\n\u001b[0;32m--> 502\u001b[0;31m             \u001b[0mresult\u001b[0m \u001b[0;34m=\u001b[0m \u001b[0mfunc\u001b[0m\u001b[0;34m(\u001b[0m\u001b[0;34m*\u001b[0m\u001b[0margs\u001b[0m\u001b[0;34m)\u001b[0m\u001b[0;34m\u001b[0m\u001b[0;34m\u001b[0m\u001b[0m\n\u001b[0m\u001b[1;32m    503\u001b[0m             \u001b[0;32mif\u001b[0m \u001b[0mresult\u001b[0m \u001b[0;32mis\u001b[0m \u001b[0;32mnot\u001b[0m \u001b[0;32mNone\u001b[0m\u001b[0;34m:\u001b[0m\u001b[0;34m\u001b[0m\u001b[0;34m\u001b[0m\u001b[0m\n\u001b[1;32m    504\u001b[0m                 \u001b[0;32mreturn\u001b[0m \u001b[0mresult\u001b[0m\u001b[0;34m\u001b[0m\u001b[0;34m\u001b[0m\u001b[0m\n",
      "\u001b[0;32m/opt/conda/lib/python3.8/urllib/request.py\u001b[0m in \u001b[0;36mhttps_open\u001b[0;34m(self, req)\u001b[0m\n\u001b[1;32m   1395\u001b[0m \u001b[0;34m\u001b[0m\u001b[0m\n\u001b[1;32m   1396\u001b[0m         \u001b[0;32mdef\u001b[0m \u001b[0mhttps_open\u001b[0m\u001b[0;34m(\u001b[0m\u001b[0mself\u001b[0m\u001b[0;34m,\u001b[0m \u001b[0mreq\u001b[0m\u001b[0;34m)\u001b[0m\u001b[0;34m:\u001b[0m\u001b[0;34m\u001b[0m\u001b[0;34m\u001b[0m\u001b[0m\n\u001b[0;32m-> 1397\u001b[0;31m             return self.do_open(http.client.HTTPSConnection, req,\n\u001b[0m\u001b[1;32m   1398\u001b[0m                 context=self._context, check_hostname=self._check_hostname)\n\u001b[1;32m   1399\u001b[0m \u001b[0;34m\u001b[0m\u001b[0m\n",
      "\u001b[0;32m/opt/conda/lib/python3.8/urllib/request.py\u001b[0m in \u001b[0;36mdo_open\u001b[0;34m(self, http_class, req, **http_conn_args)\u001b[0m\n\u001b[1;32m   1356\u001b[0m             \u001b[0;32mexcept\u001b[0m \u001b[0mOSError\u001b[0m \u001b[0;32mas\u001b[0m \u001b[0merr\u001b[0m\u001b[0;34m:\u001b[0m \u001b[0;31m# timeout error\u001b[0m\u001b[0;34m\u001b[0m\u001b[0;34m\u001b[0m\u001b[0m\n\u001b[1;32m   1357\u001b[0m                 \u001b[0;32mraise\u001b[0m \u001b[0mURLError\u001b[0m\u001b[0;34m(\u001b[0m\u001b[0merr\u001b[0m\u001b[0;34m)\u001b[0m\u001b[0;34m\u001b[0m\u001b[0;34m\u001b[0m\u001b[0m\n\u001b[0;32m-> 1358\u001b[0;31m             \u001b[0mr\u001b[0m \u001b[0;34m=\u001b[0m \u001b[0mh\u001b[0m\u001b[0;34m.\u001b[0m\u001b[0mgetresponse\u001b[0m\u001b[0;34m(\u001b[0m\u001b[0;34m)\u001b[0m\u001b[0;34m\u001b[0m\u001b[0;34m\u001b[0m\u001b[0m\n\u001b[0m\u001b[1;32m   1359\u001b[0m         \u001b[0;32mexcept\u001b[0m\u001b[0;34m:\u001b[0m\u001b[0;34m\u001b[0m\u001b[0;34m\u001b[0m\u001b[0m\n\u001b[1;32m   1360\u001b[0m             \u001b[0mh\u001b[0m\u001b[0;34m.\u001b[0m\u001b[0mclose\u001b[0m\u001b[0;34m(\u001b[0m\u001b[0;34m)\u001b[0m\u001b[0;34m\u001b[0m\u001b[0;34m\u001b[0m\u001b[0m\n",
      "\u001b[0;32m/opt/conda/lib/python3.8/http/client.py\u001b[0m in \u001b[0;36mgetresponse\u001b[0;34m(self)\u001b[0m\n\u001b[1;32m   1345\u001b[0m         \u001b[0;32mtry\u001b[0m\u001b[0;34m:\u001b[0m\u001b[0;34m\u001b[0m\u001b[0;34m\u001b[0m\u001b[0m\n\u001b[1;32m   1346\u001b[0m             \u001b[0;32mtry\u001b[0m\u001b[0;34m:\u001b[0m\u001b[0;34m\u001b[0m\u001b[0;34m\u001b[0m\u001b[0m\n\u001b[0;32m-> 1347\u001b[0;31m                 \u001b[0mresponse\u001b[0m\u001b[0;34m.\u001b[0m\u001b[0mbegin\u001b[0m\u001b[0;34m(\u001b[0m\u001b[0;34m)\u001b[0m\u001b[0;34m\u001b[0m\u001b[0;34m\u001b[0m\u001b[0m\n\u001b[0m\u001b[1;32m   1348\u001b[0m             \u001b[0;32mexcept\u001b[0m \u001b[0mConnectionError\u001b[0m\u001b[0;34m:\u001b[0m\u001b[0;34m\u001b[0m\u001b[0;34m\u001b[0m\u001b[0m\n\u001b[1;32m   1349\u001b[0m                 \u001b[0mself\u001b[0m\u001b[0;34m.\u001b[0m\u001b[0mclose\u001b[0m\u001b[0;34m(\u001b[0m\u001b[0;34m)\u001b[0m\u001b[0;34m\u001b[0m\u001b[0;34m\u001b[0m\u001b[0m\n",
      "\u001b[0;32m/opt/conda/lib/python3.8/http/client.py\u001b[0m in \u001b[0;36mbegin\u001b[0;34m(self)\u001b[0m\n\u001b[1;32m    305\u001b[0m         \u001b[0;31m# read until we get a non-100 response\u001b[0m\u001b[0;34m\u001b[0m\u001b[0;34m\u001b[0m\u001b[0;34m\u001b[0m\u001b[0m\n\u001b[1;32m    306\u001b[0m         \u001b[0;32mwhile\u001b[0m \u001b[0;32mTrue\u001b[0m\u001b[0;34m:\u001b[0m\u001b[0;34m\u001b[0m\u001b[0;34m\u001b[0m\u001b[0m\n\u001b[0;32m--> 307\u001b[0;31m             \u001b[0mversion\u001b[0m\u001b[0;34m,\u001b[0m \u001b[0mstatus\u001b[0m\u001b[0;34m,\u001b[0m \u001b[0mreason\u001b[0m \u001b[0;34m=\u001b[0m \u001b[0mself\u001b[0m\u001b[0;34m.\u001b[0m\u001b[0m_read_status\u001b[0m\u001b[0;34m(\u001b[0m\u001b[0;34m)\u001b[0m\u001b[0;34m\u001b[0m\u001b[0;34m\u001b[0m\u001b[0m\n\u001b[0m\u001b[1;32m    308\u001b[0m             \u001b[0;32mif\u001b[0m \u001b[0mstatus\u001b[0m \u001b[0;34m!=\u001b[0m \u001b[0mCONTINUE\u001b[0m\u001b[0;34m:\u001b[0m\u001b[0;34m\u001b[0m\u001b[0;34m\u001b[0m\u001b[0m\n\u001b[1;32m    309\u001b[0m                 \u001b[0;32mbreak\u001b[0m\u001b[0;34m\u001b[0m\u001b[0;34m\u001b[0m\u001b[0m\n",
      "\u001b[0;32m/opt/conda/lib/python3.8/http/client.py\u001b[0m in \u001b[0;36m_read_status\u001b[0;34m(self)\u001b[0m\n\u001b[1;32m    266\u001b[0m \u001b[0;34m\u001b[0m\u001b[0m\n\u001b[1;32m    267\u001b[0m     \u001b[0;32mdef\u001b[0m \u001b[0m_read_status\u001b[0m\u001b[0;34m(\u001b[0m\u001b[0mself\u001b[0m\u001b[0;34m)\u001b[0m\u001b[0;34m:\u001b[0m\u001b[0;34m\u001b[0m\u001b[0;34m\u001b[0m\u001b[0m\n\u001b[0;32m--> 268\u001b[0;31m         \u001b[0mline\u001b[0m \u001b[0;34m=\u001b[0m \u001b[0mstr\u001b[0m\u001b[0;34m(\u001b[0m\u001b[0mself\u001b[0m\u001b[0;34m.\u001b[0m\u001b[0mfp\u001b[0m\u001b[0;34m.\u001b[0m\u001b[0mreadline\u001b[0m\u001b[0;34m(\u001b[0m\u001b[0m_MAXLINE\u001b[0m \u001b[0;34m+\u001b[0m \u001b[0;36m1\u001b[0m\u001b[0;34m)\u001b[0m\u001b[0;34m,\u001b[0m \u001b[0;34m\"iso-8859-1\"\u001b[0m\u001b[0;34m)\u001b[0m\u001b[0;34m\u001b[0m\u001b[0;34m\u001b[0m\u001b[0m\n\u001b[0m\u001b[1;32m    269\u001b[0m         \u001b[0;32mif\u001b[0m \u001b[0mlen\u001b[0m\u001b[0;34m(\u001b[0m\u001b[0mline\u001b[0m\u001b[0;34m)\u001b[0m \u001b[0;34m>\u001b[0m \u001b[0m_MAXLINE\u001b[0m\u001b[0;34m:\u001b[0m\u001b[0;34m\u001b[0m\u001b[0;34m\u001b[0m\u001b[0m\n\u001b[1;32m    270\u001b[0m             \u001b[0;32mraise\u001b[0m \u001b[0mLineTooLong\u001b[0m\u001b[0;34m(\u001b[0m\u001b[0;34m\"status line\"\u001b[0m\u001b[0;34m)\u001b[0m\u001b[0;34m\u001b[0m\u001b[0;34m\u001b[0m\u001b[0m\n",
      "\u001b[0;32m/opt/conda/lib/python3.8/socket.py\u001b[0m in \u001b[0;36mreadinto\u001b[0;34m(self, b)\u001b[0m\n\u001b[1;32m    667\u001b[0m         \u001b[0;32mwhile\u001b[0m \u001b[0;32mTrue\u001b[0m\u001b[0;34m:\u001b[0m\u001b[0;34m\u001b[0m\u001b[0;34m\u001b[0m\u001b[0m\n\u001b[1;32m    668\u001b[0m             \u001b[0;32mtry\u001b[0m\u001b[0;34m:\u001b[0m\u001b[0;34m\u001b[0m\u001b[0;34m\u001b[0m\u001b[0m\n\u001b[0;32m--> 669\u001b[0;31m                 \u001b[0;32mreturn\u001b[0m \u001b[0mself\u001b[0m\u001b[0;34m.\u001b[0m\u001b[0m_sock\u001b[0m\u001b[0;34m.\u001b[0m\u001b[0mrecv_into\u001b[0m\u001b[0;34m(\u001b[0m\u001b[0mb\u001b[0m\u001b[0;34m)\u001b[0m\u001b[0;34m\u001b[0m\u001b[0;34m\u001b[0m\u001b[0m\n\u001b[0m\u001b[1;32m    670\u001b[0m             \u001b[0;32mexcept\u001b[0m \u001b[0mtimeout\u001b[0m\u001b[0;34m:\u001b[0m\u001b[0;34m\u001b[0m\u001b[0;34m\u001b[0m\u001b[0m\n\u001b[1;32m    671\u001b[0m                 \u001b[0mself\u001b[0m\u001b[0;34m.\u001b[0m\u001b[0m_timeout_occurred\u001b[0m \u001b[0;34m=\u001b[0m \u001b[0;32mTrue\u001b[0m\u001b[0;34m\u001b[0m\u001b[0;34m\u001b[0m\u001b[0m\n",
      "\u001b[0;32m/opt/conda/lib/python3.8/ssl.py\u001b[0m in \u001b[0;36mrecv_into\u001b[0;34m(self, buffer, nbytes, flags)\u001b[0m\n\u001b[1;32m   1239\u001b[0m                   \u001b[0;34m\"non-zero flags not allowed in calls to recv_into() on %s\"\u001b[0m \u001b[0;34m%\u001b[0m\u001b[0;34m\u001b[0m\u001b[0;34m\u001b[0m\u001b[0m\n\u001b[1;32m   1240\u001b[0m                   self.__class__)\n\u001b[0;32m-> 1241\u001b[0;31m             \u001b[0;32mreturn\u001b[0m \u001b[0mself\u001b[0m\u001b[0;34m.\u001b[0m\u001b[0mread\u001b[0m\u001b[0;34m(\u001b[0m\u001b[0mnbytes\u001b[0m\u001b[0;34m,\u001b[0m \u001b[0mbuffer\u001b[0m\u001b[0;34m)\u001b[0m\u001b[0;34m\u001b[0m\u001b[0;34m\u001b[0m\u001b[0m\n\u001b[0m\u001b[1;32m   1242\u001b[0m         \u001b[0;32melse\u001b[0m\u001b[0;34m:\u001b[0m\u001b[0;34m\u001b[0m\u001b[0;34m\u001b[0m\u001b[0m\n\u001b[1;32m   1243\u001b[0m             \u001b[0;32mreturn\u001b[0m \u001b[0msuper\u001b[0m\u001b[0;34m(\u001b[0m\u001b[0;34m)\u001b[0m\u001b[0;34m.\u001b[0m\u001b[0mrecv_into\u001b[0m\u001b[0;34m(\u001b[0m\u001b[0mbuffer\u001b[0m\u001b[0;34m,\u001b[0m \u001b[0mnbytes\u001b[0m\u001b[0;34m,\u001b[0m \u001b[0mflags\u001b[0m\u001b[0;34m)\u001b[0m\u001b[0;34m\u001b[0m\u001b[0;34m\u001b[0m\u001b[0m\n",
      "\u001b[0;32m/opt/conda/lib/python3.8/ssl.py\u001b[0m in \u001b[0;36mread\u001b[0;34m(self, len, buffer)\u001b[0m\n\u001b[1;32m   1097\u001b[0m         \u001b[0;32mtry\u001b[0m\u001b[0;34m:\u001b[0m\u001b[0;34m\u001b[0m\u001b[0;34m\u001b[0m\u001b[0m\n\u001b[1;32m   1098\u001b[0m             \u001b[0;32mif\u001b[0m \u001b[0mbuffer\u001b[0m \u001b[0;32mis\u001b[0m \u001b[0;32mnot\u001b[0m \u001b[0;32mNone\u001b[0m\u001b[0;34m:\u001b[0m\u001b[0;34m\u001b[0m\u001b[0;34m\u001b[0m\u001b[0m\n\u001b[0;32m-> 1099\u001b[0;31m                 \u001b[0;32mreturn\u001b[0m \u001b[0mself\u001b[0m\u001b[0;34m.\u001b[0m\u001b[0m_sslobj\u001b[0m\u001b[0;34m.\u001b[0m\u001b[0mread\u001b[0m\u001b[0;34m(\u001b[0m\u001b[0mlen\u001b[0m\u001b[0;34m,\u001b[0m \u001b[0mbuffer\u001b[0m\u001b[0;34m)\u001b[0m\u001b[0;34m\u001b[0m\u001b[0;34m\u001b[0m\u001b[0m\n\u001b[0m\u001b[1;32m   1100\u001b[0m             \u001b[0;32melse\u001b[0m\u001b[0;34m:\u001b[0m\u001b[0;34m\u001b[0m\u001b[0;34m\u001b[0m\u001b[0m\n\u001b[1;32m   1101\u001b[0m                 \u001b[0;32mreturn\u001b[0m \u001b[0mself\u001b[0m\u001b[0;34m.\u001b[0m\u001b[0m_sslobj\u001b[0m\u001b[0;34m.\u001b[0m\u001b[0mread\u001b[0m\u001b[0;34m(\u001b[0m\u001b[0mlen\u001b[0m\u001b[0;34m)\u001b[0m\u001b[0;34m\u001b[0m\u001b[0;34m\u001b[0m\u001b[0m\n",
      "\u001b[0;31mKeyboardInterrupt\u001b[0m: "
     ]
    }
   ],
   "source": [
    "i=0\n",
    "while True:\n",
    "#     time.sleep(2)\n",
    "    i=i+1\n",
    "    data1, data2 = read_data()\n",
    "    print(\"Data 1:\",data1)\n",
    "    print(\"Data 2:\",data2)\n",
    "#     with open('/home/jovyan/work/mldb_proj//data/file{}.csv'.format(i)) as f_object:\n",
    "#             writer_object = writer(f_object)\n",
    "# #             data = receive_data()\n",
    "#             # Pass the list as an argument into\n",
    "#             # the writerow()\n",
    "#             writer_object.writerow(data1)\n",
    "#             writer_object.writerow(data2)\n",
    "#             #Close the file object\n",
    "#             f_object.close()\n",
    "    data =[data1, data2]\n",
    "    df = pd.DataFrame(data,columns=head_cols)\n",
    "    df.to_csv('/home/jovyan/work/mldb_proj//data/test{}.csv'.format(i), index =False)\n",
    "    \n",
    "#     df = pd.DataFrame(data2, index=False)\n",
    "#     df.to_csv('/home/jovyan/work/mldb_proj//data/data2test{}.csv'.format(i))\n",
    "\n",
    "    \n",
    "#     print(\"Data added to data1test{}.csv\".format(i))\n",
    "#     print(\"Data added to data2test{}.csv\".format(i))"
   ]
  },
  {
   "cell_type": "code",
   "execution_count": null,
   "metadata": {},
   "outputs": [],
   "source": []
  },
  {
   "cell_type": "code",
   "execution_count": null,
   "metadata": {},
   "outputs": [],
   "source": []
  }
 ],
 "metadata": {
  "kernelspec": {
   "display_name": "Python 3",
   "language": "python",
   "name": "python3"
  },
  "language_info": {
   "codemirror_mode": {
    "name": "ipython",
    "version": 3
   },
   "file_extension": ".py",
   "mimetype": "text/x-python",
   "name": "python",
   "nbconvert_exporter": "python",
   "pygments_lexer": "ipython3",
   "version": "3.8.8"
  }
 },
 "nbformat": 4,
 "nbformat_minor": 4
}
