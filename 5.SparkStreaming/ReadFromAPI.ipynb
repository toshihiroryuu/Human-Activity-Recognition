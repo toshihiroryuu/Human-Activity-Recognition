{
 "cells": [
  {
   "cell_type": "code",
   "execution_count": 17,
   "metadata": {},
   "outputs": [],
   "source": [
    "import urllib\n",
    "import urllib.request\n",
    "import json\n",
    "import time\n",
    "import numpy as np\n",
    "from csv import writer\n",
    "from datetime import datetime\n",
    "import pandas as pd\n",
    "import shutil"
   ]
  },
  {
   "cell_type": "code",
   "execution_count": 3,
   "metadata": {},
   "outputs": [],
   "source": [
    "#urllib.request.urlopen('https://api.thingspeak.com/update?api_key=R7I8AQE9FRJBYGN9&field1='+str('adsfsf'))"
   ]
  },
  {
   "cell_type": "code",
   "execution_count": 4,
   "metadata": {},
   "outputs": [],
   "source": [
    "#  a=urllib.request.urlopen('https://api.thingspeak.com/channels/508740/fields/2/last.json')\n",
    "# print(a)\n"
   ]
  },
  {
   "cell_type": "code",
   "execution_count": 5,
   "metadata": {},
   "outputs": [],
   "source": [
    "#  c= a.read()\n",
    "#  print(c)"
   ]
  },
  {
   "cell_type": "code",
   "execution_count": 10,
   "metadata": {},
   "outputs": [
    {
     "data": {
      "text/plain": [
       "{'created_at': '2021-06-18T10:20:49Z',\n",
       " 'entry_id': 683,\n",
       " 'field1': '82670.05203_3_-0.209_8.736_4.685_5_-39.334_-8.984_11.604'}"
      ]
     },
     "execution_count": 10,
     "metadata": {},
     "output_type": "execute_result"
    }
   ],
   "source": [
    "b = urllib.request.urlopen('https://api.thingspeak.com/channels/508740/fields/1/last.json').read()\n",
    "res_dict = json.loads(b.decode('utf-8'))\n",
    "# res_dict['field1']\n",
    "res_dict"
   ]
  },
  {
   "cell_type": "code",
   "execution_count": 11,
   "metadata": {},
   "outputs": [
    {
     "data": {
      "text/plain": [
       "str"
      ]
     },
     "execution_count": 11,
     "metadata": {},
     "output_type": "execute_result"
    }
   ],
   "source": [
    "mobile1_values = res_dict['field1']\n",
    "type(mobile1_values)"
   ]
  },
  {
   "cell_type": "code",
   "execution_count": 17,
   "metadata": {
    "scrolled": true
   },
   "outputs": [
    {
     "data": {
      "text/plain": [
       "{'created_at': '2021-06-16T14:48:49Z',\n",
       " 'entry_id': 669,\n",
       " 'field2': '1457910.73129_3_-1.109_6.752_7.073'}"
      ]
     },
     "execution_count": 17,
     "metadata": {},
     "output_type": "execute_result"
    }
   ],
   "source": [
    "a = urllib.request.urlopen('https://api.thingspeak.com/channels/508740/fields/2/last.json').read()\n",
    "res_dict2 = json.loads(a.decode('utf-8'))\n",
    "res_dict2"
   ]
  },
  {
   "cell_type": "code",
   "execution_count": 7,
   "metadata": {},
   "outputs": [],
   "source": [
    "# mobile1_values = res_dict['feeds'][0]['field1']\n",
    "# mobile1_values"
   ]
  },
  {
   "cell_type": "code",
   "execution_count": 8,
   "metadata": {},
   "outputs": [],
   "source": [
    "# x=list(map(float, mobile1_values.split('_')))\n",
    "# x"
   ]
  },
  {
   "cell_type": "code",
   "execution_count": 9,
   "metadata": {},
   "outputs": [],
   "source": [
    "# i=0\n",
    "# for item in x:  \n",
    "#     i=i+1\n",
    "#     if item==3.0:\n",
    "#         acceleros=[x[i],x[i+1],x[i+2]]\n",
    "#         sqrt_acceler = np.sqrt(sum(j*j for j in acceleros))\n",
    "#         print(mobile1,\"accel\",sqrt_acceler)\n",
    "\n",
    "#     if item==4.0:\n",
    "#         gyros=[x[i],x[i+1],x[i+2]]\n",
    "# #         sqrt_gyro = np.sqrt(sum(j*j for j in gyros))\n",
    "#         print(mobile1,\"Gyro:\",sqrt_gyro)\n"
   ]
  },
  {
   "cell_type": "code",
   "execution_count": 6,
   "metadata": {},
   "outputs": [],
   "source": [
    "head_cols = ['mobileno', 'value']"
   ]
  },
  {
   "cell_type": "code",
   "execution_count": 7,
   "metadata": {},
   "outputs": [],
   "source": [
    "def get_data_mobile1():\n",
    "    a = urllib.request.urlopen('https://api.thingspeak.com/channels/508740/fields/1/last.json').read()\n",
    "    res_dict = json.loads(a.decode('utf-8'))\n",
    "    \n",
    "    mobile1_values = res_dict['field1']\n",
    "    x = list(map(float, mobile1_values.split('_')))\n",
    "    mobile = \"mobile1\"\n",
    "    sqrt_acceler  = 0\n",
    "    sqrt_gyro = 0\n",
    "    i = 0\n",
    "    for item in x:  \n",
    "        i = i+1\n",
    "        if item == 3.0:\n",
    "            acceleros=[x[i],x[i+1],x[i+2]]\n",
    "            sqrt_acceler = np.sqrt(sum(j*j for j in acceleros))\n",
    "#             print(sqrt_acceler)\n",
    "\n",
    "        if item == 4.0:\n",
    "            gyros=[x[i],x[i+1],x[i+2]]\n",
    "            sqrt_gyro = np.sqrt(sum(j*j for j in gyros))\n",
    "#             print(sqrt_gyro)\n",
    "            \n",
    "#     return mobile, float(sqrt_acceler), float(sqrt_gyro)\n",
    "    return mobile, mobile1_values"
   ]
  },
  {
   "cell_type": "code",
   "execution_count": 8,
   "metadata": {},
   "outputs": [],
   "source": [
    "def get_data_mobile2():\n",
    "    a = urllib.request.urlopen('https://api.thingspeak.com/channels/508740/fields/2/last.json').read()\n",
    "    res_dict = json.loads(a.decode('utf-8'))\n",
    "\n",
    "    mobile2_values = res_dict[\"field2\"]\n",
    "    x = list(map(float, mobile2_values.split('_')))\n",
    "    i = 0\n",
    "    mobile = \"mobile2\"\n",
    "    \n",
    "    sqrt_acceler  = 0\n",
    "    sqrt_gyro = 0\n",
    "    for item in x:\n",
    "        i = i+1\n",
    "        if item == 3.0:\n",
    "            acceleros=[x[i],x[i+1],x[i+2]]\n",
    "            sqrt_acceler = np.sqrt(sum(j*j for j in acceleros))\n",
    "#             print(sqrt_acceler)\n",
    "\n",
    "        if item == 4.0:\n",
    "            gyros=[x[i],x[i+1],x[i+2]]\n",
    "            sqrt_gyro = np.sqrt(sum(j*j for j in gyros))\n",
    "#             print(sqrt_gyro)\n",
    "\n",
    "    return mobile, mobile2_values"
   ]
  },
  {
   "cell_type": "code",
   "execution_count": 28,
   "metadata": {},
   "outputs": [],
   "source": [
    "path = '/home/jovyan/work/mldb_proj/data//'"
   ]
  },
  {
   "cell_type": "code",
   "execution_count": 29,
   "metadata": {},
   "outputs": [
    {
     "name": "stdout",
     "output_type": "stream",
     "text": [
      "Data 1: ('mobile1', '82670.05203_3_-0.209_8.736_4.685_5_-39.334_-8.984_11.604')\n",
      "Data 2: ('mobile2', '1457910.73129_3_-1.109_6.752_7.073')\n",
      "Data 1: ('mobile1', '82670.05203_3_-0.209_8.736_4.685_5_-39.334_-8.984_11.604')\n",
      "Data 2: ('mobile2', '1457910.73129_3_-1.109_6.752_7.073')\n",
      "Data 1: ('mobile1', '82670.05203_3_-0.209_8.736_4.685_5_-39.334_-8.984_11.604')\n",
      "Data 2: ('mobile2', '1457910.73129_3_-1.109_6.752_7.073')\n",
      "Data 1: ('mobile1', '82670.05203_3_-0.209_8.736_4.685_5_-39.334_-8.984_11.604')\n",
      "Data 2: ('mobile2', '1457910.73129_3_-1.109_6.752_7.073')\n",
      "Data 1: ('mobile1', '82670.05203_3_-0.209_8.736_4.685_5_-39.334_-8.984_11.604')\n",
      "Data 2: ('mobile2', '1457910.73129_3_-1.109_6.752_7.073')\n",
      "Data 1: ('mobile1', '82670.05203_3_-0.209_8.736_4.685_5_-39.334_-8.984_11.604')\n",
      "Data 2: ('mobile2', '1457910.73129_3_-1.109_6.752_7.073')\n",
      "Data 1: ('mobile1', '82670.05203_3_-0.209_8.736_4.685_5_-39.334_-8.984_11.604')\n",
      "Data 2: ('mobile2', '1457910.73129_3_-1.109_6.752_7.073')\n",
      "Data 1: ('mobile1', '82670.05203_3_-0.209_8.736_4.685_5_-39.334_-8.984_11.604')\n",
      "Data 2: ('mobile2', '1457910.73129_3_-1.109_6.752_7.073')\n",
      "Data 1: ('mobile1', '82670.05203_3_-0.209_8.736_4.685_5_-39.334_-8.984_11.604')\n",
      "Data 2: ('mobile2', '1457910.73129_3_-1.109_6.752_7.073')\n"
     ]
    },
    {
     "ename": "KeyboardInterrupt",
     "evalue": "",
     "output_type": "error",
     "traceback": [
      "\u001b[0;31m---------------------------------------------------------------------------\u001b[0m",
      "\u001b[0;31mKeyboardInterrupt\u001b[0m                         Traceback (most recent call last)",
      "\u001b[0;32m<ipython-input-29-1c8f7fc0a01d>\u001b[0m in \u001b[0;36m<module>\u001b[0;34m\u001b[0m\n\u001b[1;32m      1\u001b[0m \u001b[0mi\u001b[0m\u001b[0;34m=\u001b[0m\u001b[0;36m0\u001b[0m\u001b[0;34m\u001b[0m\u001b[0;34m\u001b[0m\u001b[0m\n\u001b[1;32m      2\u001b[0m \u001b[0;32mwhile\u001b[0m \u001b[0;32mTrue\u001b[0m\u001b[0;34m:\u001b[0m\u001b[0;34m\u001b[0m\u001b[0;34m\u001b[0m\u001b[0m\n\u001b[0;32m----> 3\u001b[0;31m     \u001b[0mtime\u001b[0m\u001b[0;34m.\u001b[0m\u001b[0msleep\u001b[0m\u001b[0;34m(\u001b[0m\u001b[0;36m5\u001b[0m\u001b[0;34m)\u001b[0m\u001b[0;34m\u001b[0m\u001b[0;34m\u001b[0m\u001b[0m\n\u001b[0m\u001b[1;32m      4\u001b[0m     \u001b[0mi\u001b[0m\u001b[0;34m=\u001b[0m\u001b[0mi\u001b[0m\u001b[0;34m+\u001b[0m\u001b[0;36m1\u001b[0m\u001b[0;34m\u001b[0m\u001b[0;34m\u001b[0m\u001b[0m\n\u001b[1;32m      5\u001b[0m     \u001b[0mdata1\u001b[0m \u001b[0;34m=\u001b[0m \u001b[0mget_data_mobile1\u001b[0m\u001b[0;34m(\u001b[0m\u001b[0;34m)\u001b[0m\u001b[0;34m\u001b[0m\u001b[0;34m\u001b[0m\u001b[0m\n",
      "\u001b[0;31mKeyboardInterrupt\u001b[0m: "
     ]
    }
   ],
   "source": [
    "i=0\n",
    "while True:\n",
    "    time.sleep(5)\n",
    "    i=i+1\n",
    "    data1 = get_data_mobile1()\n",
    "    data2 = get_data_mobile2()\n",
    "    print(\"Data 1:\",data1)\n",
    "    print(\"Data 2:\",data2)\n",
    "#     with open('/home/jovyan/work/mldb_proj//data/file{}.csv'.format(i)) as f_object:\n",
    "#             writer_object = writer(f_object)\n",
    "# #             data = receive_data()\n",
    "#             # Pass the list as an argument into\n",
    "#             # the writerow()\n",
    "#             writer_object.writerow(data1)\n",
    "#             writer_object.writerow(data2)\n",
    "#             #Close the file object\n",
    "#             f_object.close()\n",
    "    data =[data1, data2]\n",
    "    df = pd.DataFrame(data,columns=head_cols)\n",
    "    df.to_csv(path+'test{}.csv'.format(i), index =False)#-- for docker spark\n",
    "  #  df.to_csv('C:/Users/asham/mlspark/mldb_proj//data/test{}.csv'.format(i), index =False) #for normal jupyter\n",
    "    \n",
    "#     print(\"Data added to data1test{}.csv\".format(i))\n",
    "#     print(\"Data added to data2test{}.csv\".format(i))"
   ]
  },
  {
   "cell_type": "code",
   "execution_count": 15,
   "metadata": {},
   "outputs": [],
   "source": [
    "# def get_sqrt(mobileno, mobile_values):\n",
    "#     sqrt_acceler = 0\n",
    "#     sqrt_gyro = 0\n",
    "    \n",
    "#     x=list(map(float, mobile_values.split('_')))\n",
    "#     i=0\n",
    "#     for items in x:  \n",
    "#         i=i+1\n",
    "#         if items==3.0:\n",
    "#             acceleros=[x[i],x[i+1],x[i+2]]\n",
    "#             sqrt_acceler = np.sqrt(sum(j*j for j in acceleros))\n",
    "# #             print(mobileno,\"accel\",sqrt_acceler)\n",
    "#             i=0\n",
    "# #             \n",
    "#         if items==4.0:\n",
    "#             gyros=[x[i],x[i+1],x[i+2]]\n",
    "#             sqrt_gyro = np.sqrt(sum(j*j for j in gyros))\n",
    "# #             print(mobileno,\"Gyro:\",sqrt_gyro)\n",
    "#             i=0\n",
    "\n",
    "#     return sqrt_acceler, sqrt_gyro "
   ]
  },
  {
   "cell_type": "code",
   "execution_count": 16,
   "metadata": {},
   "outputs": [],
   "source": [
    "# def read_data():\n",
    "#     # Current date time in local system\n",
    "#     dateTimeObj = datetime.now()\n",
    "#     now = dateTimeObj.strftime(\"%d-%b-%Y (%H:%M:%S.%f)\")\n",
    "    \n",
    "#     weight1 = 65\n",
    "#     weight2 = 80\n",
    "    \n",
    "#     height1 = 170\n",
    "#     height2 = 185\n",
    "    \n",
    "#     gender1 = 'M'\n",
    "#     gender2 = 'M'\n",
    "    \n",
    "#     age1 = 25\n",
    "#     age2 = 27\n",
    "    \n",
    "#     a=urllib.request.urlopen('https://api.thingspeak.com/channels/508740/feeds.json?results=1').read()\n",
    "#     res_dict= json.loads(a.decode('utf-8'))\n",
    "#     print(\"Receiving data from url\")\n",
    "#     mobile1 = res_dict['channel']['field1']\n",
    "#     mobile1_values = res_dict['feeds'][0]['field1']\n",
    "#     sqrt_acceler1, sqrt_gyro1 = get_sqrt(mobile1, mobile1_values)\n",
    "# #     print(\"got sqrt of accelero:\",sqrt_acceler1,\" and gyro:\", sqrt_gyro1,\"from \",mobile1)\n",
    "    \n",
    "#     sqrt_gyro2 = 0\n",
    "#     sqrt_acceler2 = 0\n",
    "#     mobile2 = res_dict['channel']['field2'] \n",
    "#     mobile2_values = res_dict['feeds'][0]['field2']\n",
    "    \n",
    "#     if mobile2_values is not None:\n",
    "#         sqrt_gyro2, sqrt_acceler2 = get_sqrt(mobile2, mobile2_values)\n",
    "# #         print(\"got sqrt of accelero:\",sqrt_acceler2,\" and gyro:\", sqrt_gyro2,\"from \",mobile2)\n",
    "#         return sqrt_gyro1, sqrt_acceler1, sqrt_gyro2, sqrt_acceler2\n",
    "    \n",
    "#     data1 = [mobile1, now, sqrt_acceler1, sqrt_gyro1, weight1, height1, gender1, age1]\n",
    "#     data2 = [mobile2, now, sqrt_acceler2, sqrt_gyro2, weight2, height2, gender2, age2]\n",
    "#     return data1, data2"
   ]
  },
  {
   "cell_type": "code",
   "execution_count": 20,
   "metadata": {
    "scrolled": false
   },
   "outputs": [
    {
     "ename": "NameError",
     "evalue": "name 'read_data' is not defined",
     "output_type": "error",
     "traceback": [
      "\u001b[0;31m---------------------------------------------------------------------------\u001b[0m",
      "\u001b[0;31mNameError\u001b[0m                                 Traceback (most recent call last)",
      "\u001b[0;32m<ipython-input-20-7b8933a28ba8>\u001b[0m in \u001b[0;36m<module>\u001b[0;34m\u001b[0m\n\u001b[1;32m      3\u001b[0m \u001b[0;31m#     time.sleep(2)\u001b[0m\u001b[0;34m\u001b[0m\u001b[0;34m\u001b[0m\u001b[0;34m\u001b[0m\u001b[0m\n\u001b[1;32m      4\u001b[0m     \u001b[0mi\u001b[0m\u001b[0;34m=\u001b[0m\u001b[0mi\u001b[0m\u001b[0;34m+\u001b[0m\u001b[0;36m1\u001b[0m\u001b[0;34m\u001b[0m\u001b[0;34m\u001b[0m\u001b[0m\n\u001b[0;32m----> 5\u001b[0;31m     \u001b[0mdata1\u001b[0m\u001b[0;34m,\u001b[0m \u001b[0mdata2\u001b[0m \u001b[0;34m=\u001b[0m \u001b[0mread_data\u001b[0m\u001b[0;34m(\u001b[0m\u001b[0;34m)\u001b[0m\u001b[0;34m\u001b[0m\u001b[0;34m\u001b[0m\u001b[0m\n\u001b[0m\u001b[1;32m      6\u001b[0m     \u001b[0mprint\u001b[0m\u001b[0;34m(\u001b[0m\u001b[0;34m\"Data 1:\"\u001b[0m\u001b[0;34m,\u001b[0m\u001b[0mdata1\u001b[0m\u001b[0;34m)\u001b[0m\u001b[0;34m\u001b[0m\u001b[0;34m\u001b[0m\u001b[0m\n\u001b[1;32m      7\u001b[0m     \u001b[0mprint\u001b[0m\u001b[0;34m(\u001b[0m\u001b[0;34m\"Data 2:\"\u001b[0m\u001b[0;34m,\u001b[0m\u001b[0mdata2\u001b[0m\u001b[0;34m)\u001b[0m\u001b[0;34m\u001b[0m\u001b[0;34m\u001b[0m\u001b[0m\n",
      "\u001b[0;31mNameError\u001b[0m: name 'read_data' is not defined"
     ]
    }
   ],
   "source": [
    "i=0\n",
    "while True:\n",
    "#     time.sleep(2)\n",
    "    i=i+1\n",
    "    data1, data2 = read_data()\n",
    "    print(\"Data 1:\",data1)\n",
    "    print(\"Data 2:\",data2)\n",
    "#     with open('/home/jovyan/work/mldb_proj//data/file{}.csv'.format(i)) as f_object:\n",
    "#             writer_object = writer(f_object)\n",
    "# #             data = receive_data()\n",
    "#             # Pass the list as an argument into\n",
    "#             # the writerow()\n",
    "#             writer_object.writerow(data1)\n",
    "#             writer_object.writerow(data2)\n",
    "#             #Close the file object\n",
    "#             f_object.close()\n",
    "    data =[data1, data2]\n",
    "    df = pd.DataFrame(data,columns=head_cols)\n",
    "    df.to_csv(path+'test{}.csv'.format(i), index =False)\n",
    "    \n",
    "#     df = pd.DataFrame(data2, index=False)\n",
    "#     df.to_csv('/home/jovyan/work/mldb_proj//data/data2test{}.csv'.format(i))\n",
    "\n",
    "    \n",
    "#     print(\"Data added to data1test{}.csv\".format(i))\n",
    "#     print(\"Data added to data2test{}.csv\".format(i))"
   ]
  },
  {
   "cell_type": "code",
   "execution_count": null,
   "metadata": {},
   "outputs": [],
   "source": []
  },
  {
   "cell_type": "code",
   "execution_count": null,
   "metadata": {},
   "outputs": [],
   "source": []
  },
  {
   "cell_type": "code",
   "execution_count": null,
   "metadata": {},
   "outputs": [],
   "source": []
  }
 ],
 "metadata": {
  "kernelspec": {
   "display_name": "Python 3",
   "language": "python",
   "name": "python3"
  },
  "language_info": {
   "codemirror_mode": {
    "name": "ipython",
    "version": 3
   },
   "file_extension": ".py",
   "mimetype": "text/x-python",
   "name": "python",
   "nbconvert_exporter": "python",
   "pygments_lexer": "ipython3",
   "version": "3.8.8"
  }
 },
 "nbformat": 4,
 "nbformat_minor": 4
}
