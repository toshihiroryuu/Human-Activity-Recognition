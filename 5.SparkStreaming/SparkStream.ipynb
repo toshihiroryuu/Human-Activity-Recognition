{
 "cells": [
  {
   "cell_type": "code",
   "execution_count": 1,
   "id": "proper-eligibility",
   "metadata": {},
   "outputs": [],
   "source": [
    "import time\n",
    "from pyspark.sql.functions import window\n",
    "from pyspark.sql import functions as f"
   ]
  },
  {
   "cell_type": "code",
   "execution_count": 2,
   "id": "structured-minneapolis",
   "metadata": {},
   "outputs": [],
   "source": [
    "import numpy as np\n",
    "from IPython.display import clear_output"
   ]
  },
  {
   "cell_type": "code",
   "execution_count": 3,
   "id": "linear-israeli",
   "metadata": {},
   "outputs": [],
   "source": [
    "from pyspark import SparkContext\n",
    "from pyspark.streaming import StreamingContext\n",
    "from pyspark.sql import Row, SparkSession\n",
    "from pyspark.sql.types import StructType\n",
    "import pyspark.sql.types as tp"
   ]
  },
  {
   "cell_type": "code",
   "execution_count": 4,
   "id": "foreign-france",
   "metadata": {},
   "outputs": [],
   "source": [
    "# Create a spark Session\n",
    "spark = SparkSession.builder.appName(\"HARspark\").getOrCreate()\n"
   ]
  },
  {
   "cell_type": "code",
   "execution_count": 5,
   "id": "efficient-audience",
   "metadata": {
    "scrolled": true
   },
   "outputs": [],
   "source": [
    "user_schema = tp.StructType([\n",
    "  tp.StructField(name= 'mobileno',dataType= tp.StringType(),  nullable= True),\n",
    "  tp.StructField(name= 'value',dataType= tp.StringType(),   nullable= True)\n",
    "])"
   ]
  },
  {
   "cell_type": "code",
   "execution_count": 13,
   "id": "willing-valuable",
   "metadata": {},
   "outputs": [],
   "source": [
    "data_path = \"/home/jovyan/work//data\""
   ]
  },
  {
   "cell_type": "code",
   "execution_count": 6,
   "id": "447ae36a",
   "metadata": {},
   "outputs": [
    {
     "data": {
      "text/plain": [
       "True"
      ]
     },
     "execution_count": 6,
     "metadata": {},
     "output_type": "execute_result"
    }
   ],
   "source": [
    "csvDF = spark.readStream.format(\"csv\").option(\"header\", True).schema(user_schema).load(data_path)\n",
    "csvDF.isStreaming"
   ]
  },
  {
   "cell_type": "code",
   "execution_count": 7,
   "id": "reliable-excellence",
   "metadata": {},
   "outputs": [],
   "source": [
    "csvDF.createOrReplaceTempView(\"mobile_position\");\n",
    "\n",
    "sensor_write_stream = csvDF \\\n",
    "        .writeStream \\\n",
    "        .trigger(processingTime='5 seconds') \\\n",
    "        .outputMode(\"append\") \\\n",
    "        .option(\"truncate\", \"false\") \\\n",
    "        .format('memory') \\\n",
    "        .queryName(\"sensorTable\") \\\n",
    "        .start()\n"
   ]
  },
  {
   "cell_type": "code",
   "execution_count": 8,
   "id": "freelance-music",
   "metadata": {},
   "outputs": [],
   "source": [
    "def calculate_sqrt(mobile_values):\n",
    "    x = list(map(float, mobile_values.split('_')))\n",
    "    sqrt_acceler  = 0\n",
    "    sqrt_gyro = 0\n",
    "    i = 0\n",
    "    for item in x:  \n",
    "        i = i+1\n",
    "        if item == 3.0:\n",
    "            acceleros=[x[i],x[i+1],x[i+2]]\n",
    "            sqrt_acceler = np.sqrt(sum(j*j for j in acceleros))\n",
    "#             print(sqrt_acceler)\n",
    "\n",
    "        if item == 4.0:\n",
    "            gyros=[x[i],x[i+1],x[i+2]]\n",
    "            sqrt_gyro = np.sqrt(sum(j*j for j in gyros))\n",
    "#             print(sqrt_gyro)\n",
    "    return float(sqrt_acceler), float(sqrt_gyro)"
   ]
  },
  {
   "cell_type": "code",
   "execution_count": 9,
   "id": "classical-judge",
   "metadata": {},
   "outputs": [],
   "source": [
    "def get_data_mobile(data):\n",
    "    mobile1_values = data[0][1]\n",
    "    mobile2_values = data[1][1]\n",
    "    \n",
    "    acc1, gyro1 = calculate_sqrt(mobile1_values)\n",
    "    acc2, gyro2 = calculate_sqrt(mobile2_values)\n",
    "            \n",
    "    return acc1, gyro1, acc2, gyro2"
   ]
  },
  {
   "cell_type": "code",
   "execution_count": 11,
   "id": "cordless-chinese",
   "metadata": {},
   "outputs": [
    {
     "name": "stdout",
     "output_type": "stream",
     "text": [
      "+--------+--------------------+\n",
      "|mobileno|               value|\n",
      "+--------+--------------------+\n",
      "| mobile1|1202414.60968_3_7...|\n",
      "| mobile2|808475.73243_3_-0...|\n",
      "| mobile1|1202414.60968_3_7...|\n",
      "| mobile2|808475.73243_3_-0...|\n",
      "| mobile1|1202414.60968_3_7...|\n",
      "| mobile2|808475.73243_3_-0...|\n",
      "| mobile1|1202414.60968_3_7...|\n",
      "| mobile2|808475.73243_3_-0...|\n",
      "| mobile1|1202414.60968_3_7...|\n",
      "| mobile2|808475.73243_3_-0...|\n",
      "| mobile1|1202414.60968_3_7...|\n",
      "| mobile2|808475.73243_3_-0...|\n",
      "| mobile1|1202414.60968_3_7...|\n",
      "| mobile2|808475.73243_3_-0...|\n",
      "| mobile1|1202414.60968_3_7...|\n",
      "| mobile2|808475.73243_3_-0...|\n",
      "| mobile1|1202414.60968_3_7...|\n",
      "| mobile2|808475.73243_3_-0...|\n",
      "| mobile1|1202414.60968_3_7...|\n",
      "| mobile2|808475.73243_3_-0...|\n",
      "+--------+--------------------+\n",
      "only showing top 20 rows\n",
      "\n",
      "+--------+\n",
      "|count(1)|\n",
      "+--------+\n",
      "|      68|\n",
      "+--------+\n",
      "\n",
      "Accelerometer1: 9.799142870680068 \n",
      "Gyroscope1: 0.09710303805751909 \n",
      "Accelerometer2: 9.392925955206929 \n",
      "Gyroscope2: 0.009695359714832657\n"
     ]
    },
    {
     "ename": "KeyboardInterrupt",
     "evalue": "",
     "output_type": "error",
     "traceback": [
      "\u001b[0;31m---------------------------------------------------------------------------\u001b[0m",
      "\u001b[0;31mKeyboardInterrupt\u001b[0m                         Traceback (most recent call last)",
      "\u001b[0;32m<ipython-input-11-6dc09c0b4c0f>\u001b[0m in \u001b[0;36m<module>\u001b[0;34m\u001b[0m\n\u001b[1;32m      6\u001b[0m     \u001b[0macc1\u001b[0m\u001b[0;34m,\u001b[0m \u001b[0mgyro1\u001b[0m\u001b[0;34m,\u001b[0m \u001b[0macc2\u001b[0m\u001b[0;34m,\u001b[0m \u001b[0mgyro2\u001b[0m \u001b[0;34m=\u001b[0m \u001b[0mget_data_mobile\u001b[0m\u001b[0;34m(\u001b[0m\u001b[0mdf\u001b[0m\u001b[0;34m.\u001b[0m\u001b[0mtail\u001b[0m\u001b[0;34m(\u001b[0m\u001b[0;36m2\u001b[0m\u001b[0;34m)\u001b[0m\u001b[0;34m)\u001b[0m\u001b[0;34m\u001b[0m\u001b[0;34m\u001b[0m\u001b[0m\n\u001b[1;32m      7\u001b[0m     \u001b[0mprint\u001b[0m\u001b[0;34m(\u001b[0m\u001b[0;34m\"Accelerometer1:\"\u001b[0m\u001b[0;34m,\u001b[0m\u001b[0macc1\u001b[0m\u001b[0;34m,\u001b[0m\u001b[0;34m\"\\nGyroscope1:\"\u001b[0m\u001b[0;34m,\u001b[0m \u001b[0mgyro1\u001b[0m\u001b[0;34m,\u001b[0m\u001b[0;34m\"\\nAccelerometer2:\"\u001b[0m\u001b[0;34m,\u001b[0m \u001b[0macc2\u001b[0m\u001b[0;34m,\u001b[0m\u001b[0;34m\"\\nGyroscope2:\"\u001b[0m\u001b[0;34m,\u001b[0m  \u001b[0mgyro2\u001b[0m\u001b[0;34m)\u001b[0m\u001b[0;34m\u001b[0m\u001b[0;34m\u001b[0m\u001b[0m\n\u001b[0;32m----> 8\u001b[0;31m     \u001b[0mtime\u001b[0m\u001b[0;34m.\u001b[0m\u001b[0msleep\u001b[0m\u001b[0;34m(\u001b[0m\u001b[0;36m5\u001b[0m\u001b[0;34m)\u001b[0m\u001b[0;34m\u001b[0m\u001b[0;34m\u001b[0m\u001b[0m\n\u001b[0m\u001b[1;32m      9\u001b[0m     \u001b[0mclear_output\u001b[0m\u001b[0;34m(\u001b[0m\u001b[0mwait\u001b[0m\u001b[0;34m=\u001b[0m\u001b[0;32mTrue\u001b[0m\u001b[0;34m)\u001b[0m\u001b[0;34m\u001b[0m\u001b[0;34m\u001b[0m\u001b[0m\n",
      "\u001b[0;31mKeyboardInterrupt\u001b[0m: "
     ]
    }
   ],
   "source": [
    "while True:\n",
    "    df = spark.sql(\"SELECT * FROM sensorTable\")\n",
    "    df.show()\n",
    "    count=spark.sql(\"SELECT count(*) FROM sensorTable\" )\n",
    "    count.show()\n",
    "    acc1, gyro1, acc2, gyro2 = get_data_mobile(df.tail(2))\n",
    "    print(\"Accelerometer1:\",acc1,\"\\nGyroscope1:\", gyro1,\"\\n\\nAccelerometer2:\", acc2,\"\\nGyroscope2:\",  gyro2)\n",
    "    time.sleep(5)\n",
    "    clear_output(wait=True)"
   ]
  },
  {
   "cell_type": "code",
   "execution_count": 12,
   "id": "improved-fluid",
   "metadata": {},
   "outputs": [],
   "source": [
    "sensor_write_stream.stop()"
   ]
  },
  {
   "cell_type": "code",
   "execution_count": null,
   "id": "sudden-pursuit",
   "metadata": {},
   "outputs": [],
   "source": []
  },
  {
   "cell_type": "code",
   "execution_count": null,
   "id": "abroad-melbourne",
   "metadata": {},
   "outputs": [],
   "source": []
  },
  {
   "cell_type": "code",
   "execution_count": null,
   "id": "matched-stranger",
   "metadata": {},
   "outputs": [],
   "source": []
  },
  {
   "cell_type": "code",
   "execution_count": 10,
   "id": "complex-parts",
   "metadata": {},
   "outputs": [
    {
     "name": "stdout",
     "output_type": "stream",
     "text": [
      "+--------+--------------------+\n",
      "|mobileno|               value|\n",
      "+--------+--------------------+\n",
      "| mobile1|1202414.60968_3_7...|\n",
      "| mobile2|808475.73243_3_-0...|\n",
      "| mobile1|1202414.60968_3_7...|\n",
      "| mobile2|808475.73243_3_-0...|\n",
      "| mobile1|1202414.60968_3_7...|\n",
      "| mobile2|808475.73243_3_-0...|\n",
      "| mobile1|1202414.60968_3_7...|\n",
      "| mobile2|808475.73243_3_-0...|\n",
      "| mobile1|1202414.60968_3_7...|\n",
      "| mobile2|808475.73243_3_-0...|\n",
      "| mobile1|1202414.60968_3_7...|\n",
      "| mobile2|808475.73243_3_-0...|\n",
      "| mobile1|1202414.60968_3_7...|\n",
      "| mobile2|808475.73243_3_-0...|\n",
      "| mobile1|1202414.60968_3_7...|\n",
      "| mobile2|808475.73243_3_-0...|\n",
      "| mobile1|1202414.60968_3_7...|\n",
      "| mobile2|808475.73243_3_-0...|\n",
      "| mobile1|1202414.60968_3_7...|\n",
      "| mobile2|808475.73243_3_-0...|\n",
      "+--------+--------------------+\n",
      "only showing top 20 rows\n",
      "\n"
     ]
    },
    {
     "ename": "KeyboardInterrupt",
     "evalue": "",
     "output_type": "error",
     "traceback": [
      "\u001b[0;31m---------------------------------------------------------------------------\u001b[0m",
      "\u001b[0;31mKeyboardInterrupt\u001b[0m                         Traceback (most recent call last)",
      "\u001b[0;32m<ipython-input-10-1a8974ba6b0e>\u001b[0m in \u001b[0;36m<module>\u001b[0;34m\u001b[0m\n\u001b[1;32m      3\u001b[0m     \u001b[0mdf\u001b[0m \u001b[0;34m=\u001b[0m \u001b[0mspark\u001b[0m\u001b[0;34m.\u001b[0m\u001b[0msql\u001b[0m\u001b[0;34m(\u001b[0m\u001b[0;34m\"SELECT * FROM sensorTable\"\u001b[0m \u001b[0;34m)\u001b[0m\u001b[0;34m\u001b[0m\u001b[0;34m\u001b[0m\u001b[0m\n\u001b[1;32m      4\u001b[0m     \u001b[0mdf\u001b[0m\u001b[0;34m.\u001b[0m\u001b[0mshow\u001b[0m\u001b[0;34m(\u001b[0m\u001b[0;34m)\u001b[0m\u001b[0;34m\u001b[0m\u001b[0;34m\u001b[0m\u001b[0m\n\u001b[0;32m----> 5\u001b[0;31m     \u001b[0mtime\u001b[0m\u001b[0;34m.\u001b[0m\u001b[0msleep\u001b[0m\u001b[0;34m(\u001b[0m\u001b[0;36m5\u001b[0m\u001b[0;34m)\u001b[0m\u001b[0;34m\u001b[0m\u001b[0;34m\u001b[0m\u001b[0m\n\u001b[0m\u001b[1;32m      6\u001b[0m     \u001b[0mclear_output\u001b[0m\u001b[0;34m(\u001b[0m\u001b[0mwait\u001b[0m\u001b[0;34m=\u001b[0m\u001b[0;32mTrue\u001b[0m\u001b[0;34m)\u001b[0m\u001b[0;34m\u001b[0m\u001b[0;34m\u001b[0m\u001b[0m\n",
      "\u001b[0;31mKeyboardInterrupt\u001b[0m: "
     ]
    }
   ],
   "source": [
    "# # show whole table\n",
    "# while True:\n",
    "#     df = spark.sql(\"SELECT * FROM sensorTable\" )\n",
    "#     df.show()\n",
    "#     time.sleep(5)\n",
    "#     clear_output(wait=True)"
   ]
  },
  {
   "cell_type": "code",
   "execution_count": null,
   "id": "elder-summit",
   "metadata": {},
   "outputs": [],
   "source": [
    "# # cluster by mobileno \n",
    "# while True:\n",
    "#     df_cluster = spark.sql(\"SELECT * FROM sensorTable \\\n",
    "#                 CLUSTER BY mobileno\" )\n",
    "#     df_cluster.show()\n",
    "#     time.sleep(2)\n",
    "#     clear_output(wait=True)"
   ]
  },
  {
   "cell_type": "code",
   "execution_count": null,
   "id": "grand-premium",
   "metadata": {},
   "outputs": [],
   "source": [
    "# #total count\n",
    "# while True:\n",
    "#     count=spark.sql(\"SELECT count(*) FROM sensorTable\" )\n",
    "#     count.show()\n",
    "#     time.sleep(5)\n",
    "#     clear_output(wait=True)"
   ]
  }
 ],
 "metadata": {
  "kernelspec": {
   "display_name": "Python 3",
   "language": "python",
   "name": "python3"
  },
  "language_info": {
   "codemirror_mode": {
    "name": "ipython",
    "version": 3
   },
   "file_extension": ".py",
   "mimetype": "text/x-python",
   "name": "python",
   "nbconvert_exporter": "python",
   "pygments_lexer": "ipython3",
   "version": "3.8.8"
  }
 },
 "nbformat": 4,
 "nbformat_minor": 5
}
