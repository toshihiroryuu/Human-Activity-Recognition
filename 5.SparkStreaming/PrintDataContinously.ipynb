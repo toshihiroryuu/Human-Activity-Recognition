{
 "cells": [
  {
   "cell_type": "code",
   "execution_count": 15,
   "id": "05453373",
   "metadata": {},
   "outputs": [],
   "source": [
    "import pandas as pd\n",
    "import time\n"
   ]
  },
  {
   "cell_type": "code",
   "execution_count": 16,
   "id": "ccca82fb",
   "metadata": {},
   "outputs": [],
   "source": [
    "data = pd.read_csv('test.csv', error_bad_lines=False)"
   ]
  },
  {
   "cell_type": "code",
   "execution_count": 19,
   "id": "7a797e3e",
   "metadata": {},
   "outputs": [
    {
     "data": {
      "text/plain": [
       "(9, 8)"
      ]
     },
     "execution_count": 19,
     "metadata": {},
     "output_type": "execute_result"
    }
   ],
   "source": [
    "data.shape"
   ]
  },
  {
   "cell_type": "code",
   "execution_count": null,
   "id": "976652c6",
   "metadata": {},
   "outputs": [
    {
     "name": "stdout",
     "output_type": "stream",
     "text": [
      "    ID  Time  Rotation  Acceleration  Weight  Height  Gender  Age\n",
      "17  ID  Time  Rotation  Acceleration  Weight  Height  Gender  Age\n",
      "18  ID  Time  Rotation  Acceleration  Weight  Height  Gender  Age\n",
      "19  ID  Time  Rotation  Acceleration  Weight  Height  Gender  Age\n",
      "20  ID  Time  Rotation  Acceleration  Weight  Height  Gender  Age\n",
      "21  ID  Time  Rotation  Acceleration  Weight  Height  Gender  Age (22, 8)\n",
      "    ID  Time  Rotation  Acceleration  Weight  Height  Gender  Age\n",
      "19  ID  Time  Rotation  Acceleration  Weight  Height  Gender  Age\n",
      "20  ID  Time  Rotation  Acceleration  Weight  Height  Gender  Age\n",
      "21  ID  Time  Rotation  Acceleration  Weight  Height  Gender  Age\n",
      "22  ID  Time  Rotation  Acceleration  Weight  Height  Gender  Age\n",
      "23  ID  Time  Rotation  Acceleration  Weight  Height  Gender  Age (24, 8)\n",
      "    ID  Time  Rotation  Acceleration  Weight  Height  Gender  Age\n",
      "20  ID  Time  Rotation  Acceleration  Weight  Height  Gender  Age\n",
      "21  ID  Time  Rotation  Acceleration  Weight  Height  Gender  Age\n",
      "22  ID  Time  Rotation  Acceleration  Weight  Height  Gender  Age\n",
      "23  ID  Time  Rotation  Acceleration  Weight  Height  Gender  Age\n",
      "24  ID  Time  Rotation  Acceleration  Weight  Height  Gender  Age (25, 8)\n",
      "    ID  Time  Rotation  Acceleration  Weight  Height  Gender  Age\n",
      "21  ID  Time  Rotation  Acceleration  Weight  Height  Gender  Age\n",
      "22  ID  Time  Rotation  Acceleration  Weight  Height  Gender  Age\n",
      "23  ID  Time  Rotation  Acceleration  Weight  Height  Gender  Age\n",
      "24  ID  Time  Rotation  Acceleration  Weight  Height  Gender  Age\n",
      "25  ID  Time  Rotation  Acceleration  Weight  Height  Gender  Age (26, 8)\n",
      "    ID  Time  Rotation  Acceleration  Weight  Height  Gender  Age\n",
      "22  ID  Time  Rotation  Acceleration  Weight  Height  Gender  Age\n",
      "23  ID  Time  Rotation  Acceleration  Weight  Height  Gender  Age\n",
      "24  ID  Time  Rotation  Acceleration  Weight  Height  Gender  Age\n",
      "25  ID  Time  Rotation  Acceleration  Weight  Height  Gender  Age\n",
      "26  ID  Time  Rotation  Acceleration  Weight  Height  Gender  Age (27, 8)\n",
      "    ID  Time  Rotation  Acceleration  Weight  Height  Gender  Age\n",
      "23  ID  Time  Rotation  Acceleration  Weight  Height  Gender  Age\n",
      "24  ID  Time  Rotation  Acceleration  Weight  Height  Gender  Age\n",
      "25  ID  Time  Rotation  Acceleration  Weight  Height  Gender  Age\n",
      "26  ID  Time  Rotation  Acceleration  Weight  Height  Gender  Age\n",
      "27  ID  Time  Rotation  Acceleration  Weight  Height  Gender  Age (28, 8)\n",
      "    ID  Time  Rotation  Acceleration  Weight  Height  Gender  Age\n",
      "25  ID  Time  Rotation  Acceleration  Weight  Height  Gender  Age\n",
      "26  ID  Time  Rotation  Acceleration  Weight  Height  Gender  Age\n",
      "27  ID  Time  Rotation  Acceleration  Weight  Height  Gender  Age\n",
      "28  ID  Time  Rotation  Acceleration  Weight  Height  Gender  Age\n",
      "29  ID  Time  Rotation  Acceleration  Weight  Height  Gender  Age (30, 8)\n",
      "    ID  Time  Rotation  Acceleration  Weight  Height  Gender  Age\n",
      "26  ID  Time  Rotation  Acceleration  Weight  Height  Gender  Age\n",
      "27  ID  Time  Rotation  Acceleration  Weight  Height  Gender  Age\n",
      "28  ID  Time  Rotation  Acceleration  Weight  Height  Gender  Age\n",
      "29  ID  Time  Rotation  Acceleration  Weight  Height  Gender  Age\n",
      "30  ID  Time  Rotation  Acceleration  Weight  Height  Gender  Age (31, 8)\n",
      "    ID  Time  Rotation  Acceleration  Weight  Height  Gender  Age\n",
      "27  ID  Time  Rotation  Acceleration  Weight  Height  Gender  Age\n",
      "28  ID  Time  Rotation  Acceleration  Weight  Height  Gender  Age\n",
      "29  ID  Time  Rotation  Acceleration  Weight  Height  Gender  Age\n",
      "30  ID  Time  Rotation  Acceleration  Weight  Height  Gender  Age\n",
      "31  ID  Time  Rotation  Acceleration  Weight  Height  Gender  Age (32, 8)\n",
      "    ID  Time  Rotation  Acceleration  Weight  Height  Gender  Age\n",
      "28  ID  Time  Rotation  Acceleration  Weight  Height  Gender  Age\n",
      "29  ID  Time  Rotation  Acceleration  Weight  Height  Gender  Age\n",
      "30  ID  Time  Rotation  Acceleration  Weight  Height  Gender  Age\n",
      "31  ID  Time  Rotation  Acceleration  Weight  Height  Gender  Age\n",
      "32  ID  Time  Rotation  Acceleration  Weight  Height  Gender  Age (33, 8)\n",
      "    ID  Time  Rotation  Acceleration  Weight  Height  Gender  Age\n",
      "29  ID  Time  Rotation  Acceleration  Weight  Height  Gender  Age\n",
      "30  ID  Time  Rotation  Acceleration  Weight  Height  Gender  Age\n",
      "31  ID  Time  Rotation  Acceleration  Weight  Height  Gender  Age\n",
      "32  ID  Time  Rotation  Acceleration  Weight  Height  Gender  Age\n",
      "33  ID  Time  Rotation  Acceleration  Weight  Height  Gender  Age (34, 8)\n",
      "    ID  Time  Rotation  Acceleration  Weight  Height  Gender  Age\n",
      "31  ID  Time  Rotation  Acceleration  Weight  Height  Gender  Age\n",
      "32  ID  Time  Rotation  Acceleration  Weight  Height  Gender  Age\n",
      "33  ID  Time  Rotation  Acceleration  Weight  Height  Gender  Age\n",
      "34  ID  Time  Rotation  Acceleration  Weight  Height  Gender  Age\n",
      "35  ID  Time  Rotation  Acceleration  Weight  Height  Gender  Age (36, 8)\n",
      "    ID  Time  Rotation  Acceleration  Weight  Height  Gender  Age\n",
      "32  ID  Time  Rotation  Acceleration  Weight  Height  Gender  Age\n",
      "33  ID  Time  Rotation  Acceleration  Weight  Height  Gender  Age\n",
      "34  ID  Time  Rotation  Acceleration  Weight  Height  Gender  Age\n",
      "35  ID  Time  Rotation  Acceleration  Weight  Height  Gender  Age\n",
      "36  ID  Time  Rotation  Acceleration  Weight  Height  Gender  Age (37, 8)\n",
      "    ID  Time  Rotation  Acceleration  Weight  Height  Gender  Age\n",
      "33  ID  Time  Rotation  Acceleration  Weight  Height  Gender  Age\n",
      "34  ID  Time  Rotation  Acceleration  Weight  Height  Gender  Age\n",
      "35  ID  Time  Rotation  Acceleration  Weight  Height  Gender  Age\n",
      "36  ID  Time  Rotation  Acceleration  Weight  Height  Gender  Age\n",
      "37  ID  Time  Rotation  Acceleration  Weight  Height  Gender  Age (38, 8)\n",
      "    ID  Time  Rotation  Acceleration  Weight  Height  Gender  Age\n",
      "33  ID  Time  Rotation  Acceleration  Weight  Height  Gender  Age\n",
      "34  ID  Time  Rotation  Acceleration  Weight  Height  Gender  Age\n",
      "35  ID  Time  Rotation  Acceleration  Weight  Height  Gender  Age\n",
      "36  ID  Time  Rotation  Acceleration  Weight  Height  Gender  Age\n",
      "37  ID  Time  Rotation  Acceleration  Weight  Height  Gender  Age (38, 8)\n",
      "    ID  Time  Rotation  Acceleration  Weight  Height  Gender  Age\n",
      "33  ID  Time  Rotation  Acceleration  Weight  Height  Gender  Age\n",
      "34  ID  Time  Rotation  Acceleration  Weight  Height  Gender  Age\n",
      "35  ID  Time  Rotation  Acceleration  Weight  Height  Gender  Age\n",
      "36  ID  Time  Rotation  Acceleration  Weight  Height  Gender  Age\n",
      "37  ID  Time  Rotation  Acceleration  Weight  Height  Gender  Age (38, 8)\n",
      "    ID  Time  Rotation  Acceleration  Weight  Height  Gender  Age\n",
      "33  ID  Time  Rotation  Acceleration  Weight  Height  Gender  Age\n",
      "34  ID  Time  Rotation  Acceleration  Weight  Height  Gender  Age\n",
      "35  ID  Time  Rotation  Acceleration  Weight  Height  Gender  Age\n",
      "36  ID  Time  Rotation  Acceleration  Weight  Height  Gender  Age\n",
      "37  ID  Time  Rotation  Acceleration  Weight  Height  Gender  Age (38, 8)\n",
      "    ID  Time  Rotation  Acceleration  Weight  Height  Gender  Age\n",
      "33  ID  Time  Rotation  Acceleration  Weight  Height  Gender  Age\n",
      "34  ID  Time  Rotation  Acceleration  Weight  Height  Gender  Age\n",
      "35  ID  Time  Rotation  Acceleration  Weight  Height  Gender  Age\n",
      "36  ID  Time  Rotation  Acceleration  Weight  Height  Gender  Age\n",
      "37  ID  Time  Rotation  Acceleration  Weight  Height  Gender  Age (38, 8)\n",
      "    ID  Time  Rotation  Acceleration  Weight  Height  Gender  Age\n",
      "33  ID  Time  Rotation  Acceleration  Weight  Height  Gender  Age\n",
      "34  ID  Time  Rotation  Acceleration  Weight  Height  Gender  Age\n",
      "35  ID  Time  Rotation  Acceleration  Weight  Height  Gender  Age\n",
      "36  ID  Time  Rotation  Acceleration  Weight  Height  Gender  Age\n",
      "37  ID  Time  Rotation  Acceleration  Weight  Height  Gender  Age (38, 8)\n",
      "    ID  Time  Rotation  Acceleration  Weight  Height  Gender  Age\n",
      "33  ID  Time  Rotation  Acceleration  Weight  Height  Gender  Age\n",
      "34  ID  Time  Rotation  Acceleration  Weight  Height  Gender  Age\n",
      "35  ID  Time  Rotation  Acceleration  Weight  Height  Gender  Age\n",
      "36  ID  Time  Rotation  Acceleration  Weight  Height  Gender  Age\n",
      "37  ID  Time  Rotation  Acceleration  Weight  Height  Gender  Age (38, 8)\n"
     ]
    }
   ],
   "source": [
    "while True:\n",
    "    time.sleep(6)\n",
    "    data = pd.read_csv('test.csv', error_bad_lines=False)\n",
    "    print(data.tail())"
   ]
  },
  {
   "cell_type": "markdown",
   "id": "ff83d68d",
   "metadata": {},
   "source": [
    "id, currenttime, rotation rate, user acceleration, weight, height, gender, age"
   ]
  }
 ],
 "metadata": {
  "kernelspec": {
   "display_name": "Python 3",
   "language": "python",
   "name": "python3"
  },
  "language_info": {
   "codemirror_mode": {
    "name": "ipython",
    "version": 3
   },
   "file_extension": ".py",
   "mimetype": "text/x-python",
   "name": "python",
   "nbconvert_exporter": "python",
   "pygments_lexer": "ipython3",
   "version": "3.8.8"
  }
 },
 "nbformat": 4,
 "nbformat_minor": 5
}
