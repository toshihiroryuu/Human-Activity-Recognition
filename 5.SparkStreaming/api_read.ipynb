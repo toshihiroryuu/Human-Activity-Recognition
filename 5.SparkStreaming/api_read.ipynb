{
 "cells": [
  {
   "cell_type": "code",
   "execution_count": 1,
   "metadata": {},
   "outputs": [],
   "source": [
    "import urllib\n",
    "import urllib.request\n",
    "\n"
   ]
  },
  {
   "cell_type": "code",
   "execution_count": 2,
   "metadata": {},
   "outputs": [
    {
     "data": {
      "text/plain": [
       "<http.client.HTTPResponse at 0x1fcdd7f32e0>"
      ]
     },
     "execution_count": 2,
     "metadata": {},
     "output_type": "execute_result"
    }
   ],
   "source": [
    "#urllib.request.urlopen('https://api.thingspeak.com/update?api_key=R7I8AQE9FRJBYGN9&field1='+str('adsfsf'))"
   ]
  },
  {
   "cell_type": "code",
   "execution_count": 48,
   "metadata": {},
   "outputs": [
    {
     "name": "stdout",
     "output_type": "stream",
     "text": [
      "<http.client.HTTPResponse object at 0x000001FCDD7F3460>\n"
     ]
    }
   ],
   "source": [
    "a=urllib.request.urlopen('https://api.thingspeak.com/channels/508740/feeds.json?results=1')\n",
    "print(a)"
   ]
  },
  {
   "cell_type": "code",
   "execution_count": 49,
   "metadata": {},
   "outputs": [
    {
     "name": "stdout",
     "output_type": "stream",
     "text": [
      "b'{\"channel\":{\"id\":508740,\"name\":\"ashamschannel\",\"latitude\":\"0.0\",\"longitude\":\"0.0\",\"field1\":\"mobile1\",\"field2\":\"mobile2\",\"created_at\":\"2018-06-01T07:04:33Z\",\"updated_at\":\"2021-06-12T11:11:45Z\",\"last_entry_id\":303},\"feeds\":[{\"created_at\":\"2021-06-12T12:13:27Z\",\"entry_id\":303,\"field1\":\"1106216.34354_3_0.140_3.322_9.358\",\"field2\":null}]}'\n"
     ]
    }
   ],
   "source": [
    "c= a.read()\n",
    "print(c)"
   ]
  },
  {
   "cell_type": "code",
   "execution_count": 50,
   "metadata": {},
   "outputs": [],
   "source": [
    "#[[g1,a1],[g2,a2]]...."
   ]
  },
  {
   "cell_type": "code",
   "execution_count": 51,
   "metadata": {},
   "outputs": [],
   "source": [
    "import json\n",
    "res_dict= json.loads(c.decode('utf-8'))"
   ]
  },
  {
   "cell_type": "code",
   "execution_count": 52,
   "metadata": {},
   "outputs": [
    {
     "data": {
      "text/plain": [
       "{'channel': {'id': 508740,\n",
       "  'name': 'ashamschannel',\n",
       "  'latitude': '0.0',\n",
       "  'longitude': '0.0',\n",
       "  'field1': 'mobile1',\n",
       "  'field2': 'mobile2',\n",
       "  'created_at': '2018-06-01T07:04:33Z',\n",
       "  'updated_at': '2021-06-12T11:11:45Z',\n",
       "  'last_entry_id': 303},\n",
       " 'feeds': [{'created_at': '2021-06-12T12:13:27Z',\n",
       "   'entry_id': 303,\n",
       "   'field1': '1106216.34354_3_0.140_3.322_9.358',\n",
       "   'field2': None}]}"
      ]
     },
     "execution_count": 52,
     "metadata": {},
     "output_type": "execute_result"
    }
   ],
   "source": [
    "res_dict"
   ]
  },
  {
   "cell_type": "code",
   "execution_count": 53,
   "metadata": {},
   "outputs": [
    {
     "data": {
      "text/plain": [
       "dict"
      ]
     },
     "execution_count": 53,
     "metadata": {},
     "output_type": "execute_result"
    }
   ],
   "source": [
    "type(res_dict)"
   ]
  },
  {
   "cell_type": "code",
   "execution_count": 57,
   "metadata": {},
   "outputs": [
    {
     "name": "stdout",
     "output_type": "stream",
     "text": [
      "1106216.34354_3_0.140_3.322_9.358\n"
     ]
    }
   ],
   "source": [
    "mobile1 = res_dict['feeds'][0]['field1']\n",
    "print(mobile1)"
   ]
  },
  {
   "cell_type": "code",
   "execution_count": 58,
   "metadata": {},
   "outputs": [
    {
     "name": "stdout",
     "output_type": "stream",
     "text": [
      "None\n"
     ]
    }
   ],
   "source": [
    "mobile2 = res_dict['feeds'][0]['field2']\n",
    "print(mobile2)"
   ]
  },
  {
   "cell_type": "code",
   "execution_count": 60,
   "metadata": {},
   "outputs": [],
   "source": [
    "def read_data():\n",
    "    while():\n",
    "        a=urllib.request.urlopen('https://api.thingspeak.com/channels/508740/feeds.json?results=1').read()\n",
    "        print(a)"
   ]
  },
  {
   "cell_type": "code",
   "execution_count": null,
   "metadata": {},
   "outputs": [],
   "source": []
  }
 ],
 "metadata": {
  "kernelspec": {
   "display_name": "Python 3",
   "language": "python",
   "name": "python3"
  },
  "language_info": {
   "codemirror_mode": {
    "name": "ipython",
    "version": 3
   },
   "file_extension": ".py",
   "mimetype": "text/x-python",
   "name": "python",
   "nbconvert_exporter": "python",
   "pygments_lexer": "ipython3",
   "version": "3.8.3"
  }
 },
 "nbformat": 4,
 "nbformat_minor": 4
}
