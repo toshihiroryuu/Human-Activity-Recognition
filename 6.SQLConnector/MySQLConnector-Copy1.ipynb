{
 "cells": [
  {
   "cell_type": "markdown",
   "metadata": {},
   "source": [
    "URL : https://www.thepythoncode.com/article/connect-to-a-remote-mysql-server-in-python"
   ]
  },
  {
   "cell_type": "code",
   "execution_count": 5,
   "metadata": {},
   "outputs": [
    {
     "name": "stdout",
     "output_type": "stream",
     "text": [
      "Collecting mysql-connector-python\n",
      "  Downloading mysql_connector_python-8.0.24-py2.py3-none-any.whl (319 kB)\n",
      "Requirement already satisfied: protobuf>=3.0.0 in c:\\users\\athul\\appdata\\local\\programs\\python\\python38-32\\lib\\site-packages (from mysql-connector-python) (3.15.8)\n",
      "Requirement already satisfied: six>=1.9 in c:\\users\\athul\\appdata\\local\\programs\\python\\python38-32\\lib\\site-packages (from protobuf>=3.0.0->mysql-connector-python) (1.15.0)\n",
      "Installing collected packages: mysql-connector-python\n",
      "Successfully installed mysql-connector-python-8.0.24\n"
     ]
    }
   ],
   "source": [
    "# ! pip install mysql-connector-python"
   ]
  },
  {
   "cell_type": "code",
   "execution_count": 20,
   "metadata": {},
   "outputs": [],
   "source": [
    "import mysql.connector as mysql"
   ]
  },
  {
   "cell_type": "markdown",
   "metadata": {},
   "source": [
    "Remote Server URL : https://remotemysql.com/stats.php?dbid=CA5uu0B5Nd"
   ]
  },
  {
   "cell_type": "code",
   "execution_count": 21,
   "metadata": {},
   "outputs": [],
   "source": [
    "# enter your server IP address/domain name\n",
    "HOST = \"remotemysql.com\" # or \"domain.com\"\n",
    "\n",
    "# database name, if you want just to connect to MySQL server, leave it empty\n",
    "DATABASE = \"CA5uu0B5Nd\"\n",
    "\n",
    "# this is the user you create\n",
    "USER = \"CA5uu0B5Nd\"\n",
    "\n",
    "# user password\n",
    "PASSWORD = \"60bW7aJsjO\""
   ]
  },
  {
   "cell_type": "code",
   "execution_count": 22,
   "metadata": {},
   "outputs": [
    {
     "name": "stdout",
     "output_type": "stream",
     "text": [
      "Connected to: 8.0.13-4\n"
     ]
    }
   ],
   "source": [
    "# connect to MySQL server\n",
    "db_connection = mysql.connect(host=HOST, database=DATABASE, user=USER, password=PASSWORD)\n",
    "print(\"Connected to:\", db_connection.get_server_info())"
   ]
  },
  {
   "cell_type": "code",
   "execution_count": 4,
   "metadata": {},
   "outputs": [],
   "source": [
    "cursor = db_connection.cursor()\n",
    " \n",
    "# Drop table if it already exist using execute()\n",
    "cursor.execute(\"DROP TABLE IF EXISTS MOBILE\")\n",
    " \n",
    "# Create table as per requirement\n",
    "sql = \"CREATE TABLE MOBILE ( TIME TIMESTAMP, ACC DOUBLE, GYRO DOUBLE )\"\n",
    " \n",
    "cursor.execute(sql) #table created\n",
    " \n",
    "# disconnect from server\n",
    "# db_connection.close()"
   ]
  },
  {
   "cell_type": "code",
   "execution_count": 40,
   "metadata": {},
   "outputs": [
    {
     "name": "stdout",
     "output_type": "stream",
     "text": [
      "Data inserted\n"
     ]
    }
   ],
   "source": [
    "#Creating a cursor object using the cursor() method\n",
    "cursor = db_connection.cursor()\n",
    "\n",
    "# Preparing SQL query to INSERT a record into the database.\n",
    "insert_stmt = (\n",
    "   \"INSERT INTO MOBILE(TIME, ACC, GYRO)\"\n",
    "   \"VALUES (%s, %s, %s)\"\n",
    ")\n",
    "data = (\"2021-02-23T10:58:28.948939\", 300, 250)\n",
    "\n",
    "try:\n",
    "   # Executing the SQL command\n",
    "   cursor.execute(insert_stmt, data)\n",
    "   \n",
    "   # Commit your changes in the database\n",
    "   db_connection.commit()\n",
    "\n",
    "except:\n",
    "   # Rolling back in case of error\n",
    "   db_connection.rollback()\n",
    "\n",
    "print(\"Data inserted\")"
   ]
  },
  {
   "cell_type": "code",
   "execution_count": null,
   "metadata": {},
   "outputs": [],
   "source": []
  },
  {
   "cell_type": "markdown",
   "metadata": {},
   "source": [
    "## Whole Data"
   ]
  },
  {
   "cell_type": "code",
   "execution_count": 34,
   "metadata": {},
   "outputs": [
    {
     "name": "stdout",
     "output_type": "stream",
     "text": [
      "Connected to: 8.0.13-4\n"
     ]
    }
   ],
   "source": [
    "# connect to MySQL server\n",
    "db_connection = mysql.connect(host=HOST, database=DATABASE, user=USER, password=PASSWORD)\n",
    "print(\"Connected to:\", db_connection.get_server_info())"
   ]
  },
  {
   "cell_type": "code",
   "execution_count": 35,
   "metadata": {},
   "outputs": [],
   "source": [
    "cursor = db_connection.cursor()\n",
    " \n",
    "# Drop table if it already exist using execute()\n",
    "cursor.execute(\"DROP TABLE IF EXISTS MOBILESTREAM\")\n",
    " \n",
    "# Create table as per requirement\n",
    "sql = \"CREATE TABLE MOBILESTREAM ( TIME TIMESTAMP, ACCX DOUBLE, ACCY DOUBLE, ACCZ DOUBLE, ACC DOUBLE, GYROX DOUBLE, GYROY DOUBLE, GYROZ DOUBLE, GYRO DOUBLE )\"\n",
    " \n",
    "cursor.execute(sql) #table created\n",
    " \n",
    "# disconnect from server\n",
    "# db_connection.close()"
   ]
  },
  {
   "cell_type": "code",
   "execution_count": 37,
   "metadata": {},
   "outputs": [
    {
     "name": "stdout",
     "output_type": "stream",
     "text": [
      "Data inserted\n"
     ]
    }
   ],
   "source": [
    "cursor = db_connection.cursor()\n",
    "\n",
    "insert_stmt = (\n",
    "   \"INSERT INTO MOBILESTREAM(TIME, ACCX, ACCY, ACCZ, ACC, GYROX, GYROY, GYROZ, GYRO)\"\n",
    "   \"VALUES (%s, %s, %s, %s, %s, %s, %s, %s, %s)\"\n",
    ")\n",
    "data = (\"2021-04-27T10:04:28.604967\",10, 13, 14, 25,20, 3, 19, 16)\n",
    "\n",
    "try:\n",
    "    cursor.execute(insert_stmt, data)\n",
    "    db_connection.commit()\n",
    "\n",
    "except:\n",
    "    db_connection.rollback()\n",
    "\n",
    "print(\"Data inserted\")"
   ]
  }
 ],
 "metadata": {
  "kernelspec": {
   "display_name": "Python 3",
   "language": "python",
   "name": "python3"
  },
  "language_info": {
   "codemirror_mode": {
    "name": "ipython",
    "version": 3
   },
   "file_extension": ".py",
   "mimetype": "text/x-python",
   "name": "python",
   "nbconvert_exporter": "python",
   "pygments_lexer": "ipython3",
   "version": "3.8.5"
  }
 },
 "nbformat": 4,
 "nbformat_minor": 4
}
