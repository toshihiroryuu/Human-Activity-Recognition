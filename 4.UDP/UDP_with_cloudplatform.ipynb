{
 "cells": [
  {
   "cell_type": "code",
   "execution_count": null,
   "metadata": {},
   "outputs": [],
   "source": [
    "import json\n",
    "import socket\n",
    "import time\n",
    "from datetime import datetime\n",
    "import urllib\n",
    "import urllib.request\n"
   ]
  },
  {
   "cell_type": "code",
   "execution_count": null,
   "metadata": {},
   "outputs": [],
   "source": [
    "UDP_IP: str = \"\"\n",
    "UDP_PORT: int = 5555\n",
    "\n",
    "sock = socket.socket(socket.AF_INET, socket.SOCK_DGRAM)\n",
    "sock.bind((UDP_IP, UDP_PORT))\n",
    "\n",
    "# wait 15 secs for the kafka broker to be up & running\n",
    "time.sleep(15)\n"
   ]
  },
  {
   "cell_type": "code",
   "execution_count": null,
   "metadata": {},
   "outputs": [],
   "source": [
    "sensor_map: dict = {\n",
    "    1: \"gps_position\",\n",
    "    3: \"accelerometer\",\n",
    "    4: \"gyroscope\",\n",
    "    5: \"magnetic_field\",\n",
    "    81: \"orientation\",\n",
    "    82: \"linear_acceleration\",\n",
    "    83: \"gravity\",\n",
    "    84: \"rotation_vector\",\n",
    "    85: \"pressure\",\n",
    "    86: \"battery_temperature\",\n",
    "}\n",
    "    "
   ]
  },
  {
   "cell_type": "code",
   "execution_count": null,
   "metadata": {},
   "outputs": [],
   "source": [
    "# def get_payload(row: list) -> dict:\n",
    "#     row: list = list(map(float, row))\n",
    "#     dict_: dict = {}\n",
    "#     for key in sensor_map:\n",
    "#         if key in row:\n",
    "#             _index: int = row.index(key)\n",
    "#             if key not in (85, 86):\n",
    "#                 dict_[sensor_map[key]] = row[_index + 1 : _index + 4]\n",
    "#             else:\n",
    "#                 dict_[sensor_map[key]] = row[_index + 1 : _index + 2][0]\n",
    "#     return dict_\n"
   ]
  },
  {
   "cell_type": "code",
   "execution_count": null,
   "metadata": {},
   "outputs": [],
   "source": [
    "def listToString(list):\n",
    "    #list.replace(\" \",\"&\")\n",
    "    str1 = \"_\"\n",
    "    str1=str1.join(list)\n",
    "    str1=str1.replace(\" \",\"\")\n",
    "    return (str1)\n",
    "while True:\n",
    "    data, addr = sock.recvfrom(1024)\n",
    "    #print(addr)\n",
    "    row: list = data.decode(\"utf-8\").split(\",\")\n",
    "    #print(row[2])\n",
    "    convertedStr = listToString(row)\n",
    "    print(convertedStr)\n",
    "    urllib.request.urlopen('https://api.thingspeak.com/update?api_key=R7I8AQE9FRJBYGN9&field1='+str(convertedStr))\n",
    "\n",
    "\n",
    "\n",
    "\n",
    "    \n",
    "#     payload: dict = get_payload(row)\n",
    "#     payload[\"@timestamp\"] = datetime.now().isoformat()\n",
    "#     payload[\"sender\"] = addr[0]\n",
    "#     payload[\"event_id\"] = row[0].replace(\".\", \"\")\n",
    "#     print(\"Timestamp: \", payload[\"@timestamp\"])\n",
    "#     print(\"Sender IP: \", payload[\"sender\"])\n",
    "#     print(\"Event Id: \", payload[\"event_id\"],\"\\n\")\n",
    "#     kafka_producer.send(\"smartphone-sensor\", payload)"
   ]
  }
 ],
 "metadata": {
  "kernelspec": {
   "display_name": "Python 3",
   "language": "python",
   "name": "python3"
  },
  "language_info": {
   "codemirror_mode": {
    "name": "ipython",
    "version": 3
   },
   "file_extension": ".py",
   "mimetype": "text/x-python",
   "name": "python",
   "nbconvert_exporter": "python",
   "pygments_lexer": "ipython3",
   "version": "3.8.3"
  }
 },
 "nbformat": 4,
 "nbformat_minor": 4
}
