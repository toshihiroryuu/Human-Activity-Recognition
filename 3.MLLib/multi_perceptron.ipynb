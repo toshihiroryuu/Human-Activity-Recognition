{
 "cells": [
  {
   "cell_type": "code",
   "execution_count": 14,
   "metadata": {},
   "outputs": [],
   "source": [
    "from pyspark.sql import SparkSession\n",
    "from pyspark.sql.functions import *\n",
    "from pyspark.ml.feature import VectorAssembler, StringIndexer\n",
    "from pyspark.ml.classification import MultilayerPerceptronClassifier\n",
    "from pyspark.ml.evaluation import MulticlassClassificationEvaluator"
   ]
  },
  {
   "cell_type": "code",
   "execution_count": 15,
   "metadata": {},
   "outputs": [],
   "source": [
    "spark = SparkSession.builder.appName(\"multilayer_perceptron\").getOrCreate()"
   ]
  },
  {
   "cell_type": "code",
   "execution_count": 16,
   "metadata": {},
   "outputs": [
    {
     "name": "stdout",
     "output_type": "stream",
     "text": [
      "+---+--------------------+--------------------+---+---+------+------+----+------+-----+\n",
      "|_c0|        rotationRate|    userAcceleration|act| id|weight|height| age|gender|trial|\n",
      "+---+--------------------+--------------------+---+---+------+------+----+------+-----+\n",
      "|  0|0.010253424306055027|0.006959199379238966|0.0|0.0| 102.0| 188.0|46.0|   1.0|  5.0|\n",
      "|  1|0.010920351047470954|0.010672920359489243|0.0|0.0| 102.0| 188.0|46.0|   1.0|  5.0|\n",
      "|  2|0.008376644793710666|0.007009658764875...|0.0|0.0| 102.0| 188.0|46.0|   1.0|  5.0|\n",
      "|  3|0.006554577255628314|0.014892331247994722|0.0|0.0| 102.0| 188.0|46.0|   1.0|  5.0|\n",
      "|  4|0.007723848846268292|0.013001225519157802|0.0|0.0| 102.0| 188.0|46.0|   1.0|  5.0|\n",
      "+---+--------------------+--------------------+---+---+------+------+----+------+-----+\n",
      "only showing top 5 rows\n",
      "\n"
     ]
    }
   ],
   "source": [
    "df = spark.read.csv('test.csv', header=True, inferSchema=True)\n",
    "df.show(5)"
   ]
  },
  {
   "cell_type": "code",
   "execution_count": 23,
   "metadata": {},
   "outputs": [
    {
     "name": "stdout",
     "output_type": "stream",
     "text": [
      "+---+--------------------+--------------------+---+---+------+------+----+------+-----+--------------------+\n",
      "|_c0|        rotationRate|    userAcceleration|act| id|weight|height| age|gender|trial|            features|\n",
      "+---+--------------------+--------------------+---+---+------+------+----+------+-----+--------------------+\n",
      "|  0|0.010253424306055027|0.006959199379238966|0.0|0.0| 102.0| 188.0|46.0|   1.0|  5.0|[0.01025342430605...|\n",
      "|  1|0.010920351047470954|0.010672920359489243|0.0|0.0| 102.0| 188.0|46.0|   1.0|  5.0|[0.01092035104747...|\n",
      "|  2|0.008376644793710666|0.007009658764875...|0.0|0.0| 102.0| 188.0|46.0|   1.0|  5.0|[0.00837664479371...|\n",
      "|  3|0.006554577255628314|0.014892331247994722|0.0|0.0| 102.0| 188.0|46.0|   1.0|  5.0|[0.00655457725562...|\n",
      "|  4|0.007723848846268292|0.013001225519157802|0.0|0.0| 102.0| 188.0|46.0|   1.0|  5.0|[0.00772384884626...|\n",
      "+---+--------------------+--------------------+---+---+------+------+----+------+-----+--------------------+\n",
      "only showing top 5 rows\n",
      "\n",
      "+---+--------------------+--------------------+---+---+------+------+----+------+-----+--------------------+-----+\n",
      "|_c0|        rotationRate|    userAcceleration|act| id|weight|height| age|gender|trial|            features|label|\n",
      "+---+--------------------+--------------------+---+---+------+------+----+------+-----+--------------------+-----+\n",
      "|  0|0.010253424306055027|0.006959199379238966|0.0|0.0| 102.0| 188.0|46.0|   1.0|  5.0|[0.01025342430605...|  0.0|\n",
      "|  1|0.010920351047470954|0.010672920359489243|0.0|0.0| 102.0| 188.0|46.0|   1.0|  5.0|[0.01092035104747...|  0.0|\n",
      "|  2|0.008376644793710666|0.007009658764875...|0.0|0.0| 102.0| 188.0|46.0|   1.0|  5.0|[0.00837664479371...|  0.0|\n",
      "|  3|0.006554577255628314|0.014892331247994722|0.0|0.0| 102.0| 188.0|46.0|   1.0|  5.0|[0.00655457725562...|  0.0|\n",
      "|  4|0.007723848846268292|0.013001225519157802|0.0|0.0| 102.0| 188.0|46.0|   1.0|  5.0|[0.00772384884626...|  0.0|\n",
      "+---+--------------------+--------------------+---+---+------+------+----+------+-----+--------------------+-----+\n",
      "only showing top 5 rows\n",
      "\n"
     ]
    }
   ],
   "source": [
    "vectorAssembler = VectorAssembler(inputCols = ['rotationRate','userAcceleration','weight','height','age'], outputCol = 'features')\n",
    "v_df = vectorAssembler.transform(df)\n",
    "v_df.show(5)\n",
    "# Let's split our data into training data and testing data\n",
    "indexer = StringIndexer(inputCol = 'act', outputCol ='label')\n",
    "i_v_df = indexer.fit(v_df).transform(v_df)\n",
    "i_v_df.show(5)"
   ]
  },
  {
   "cell_type": "code",
   "execution_count": 24,
   "metadata": {},
   "outputs": [
    {
     "name": "stdout",
     "output_type": "stream",
     "text": [
      "+---+-----+------+\n",
      "|act|label| count|\n",
      "+---+-----+------+\n",
      "|1.0|  1.0|224816|\n",
      "|4.0|  2.0|158645|\n",
      "|5.0|  3.0|104327|\n",
      "|3.0|  4.0| 58204|\n",
      "|0.0|  0.0|234657|\n",
      "|2.0|  5.0| 50246|\n",
      "+---+-----+------+\n",
      "\n",
      "498552 332343 830895\n"
     ]
    }
   ],
   "source": [
    "i_v_df.select('act','label').groupBy('act','label').count().show()\n",
    "splits = i_v_df.randomSplit([0.6,0.4],1)\n",
    "train_df = splits[0]\n",
    "test_df = splits[1]\n",
    "print(train_df.count(),test_df.count(), i_v_df.count())"
   ]
  },
  {
   "cell_type": "code",
   "execution_count": 31,
   "metadata": {},
   "outputs": [
    {
     "name": "stdout",
     "output_type": "stream",
     "text": [
      "DataFrame[_c0: int, rotationRate: double, userAcceleration: double, act: double, id: double, weight: double, height: double, age: double, gender: double, trial: double, features: vector, label: double, rawPrediction: vector, probability: vector, prediction: double]\n",
      "+---+--------------------+-----+--------------------+--------------------+----------+\n",
      "| Id|            features|label|       rawPrediction|         probability|prediction|\n",
      "+---+--------------------+-----+--------------------+--------------------+----------+\n",
      "|0.0|[0.01025342430605...|  0.0|[0.60496897970682...|[0.28166146587660...|       0.0|\n",
      "|0.0|[0.00772384884626...|  0.0|[0.60496897970682...|[0.28166146587660...|       0.0|\n",
      "|0.0|[0.00854399678136...|  0.0|[0.60496897970682...|[0.28166146587660...|       0.0|\n",
      "|0.0|[0.01131570452954...|  0.0|[0.60496897970682...|[0.28166146587660...|       0.0|\n",
      "|0.0|[0.01605642877479...|  0.0|[0.60496897970682...|[0.28166146587660...|       0.0|\n",
      "+---+--------------------+-----+--------------------+--------------------+----------+\n",
      "only showing top 5 rows\n",
      "\n"
     ]
    }
   ],
   "source": [
    "layers = [5,5,5,6]\n",
    "mlp = MultilayerPerceptronClassifier().setLayers(layers).setSeed(13).setMaxIter(10)\n",
    "mlp_model = mlp.fit(train_df)\n",
    "pred_df = mlp_model.transform(test_df)\n",
    "print(pred_df)\n",
    "pred_df.select('Id','features','label','rawPrediction','probability','prediction').show(5)"
   ]
  },
  {
   "cell_type": "code",
   "execution_count": 32,
   "metadata": {},
   "outputs": [
    {
     "name": "stdout",
     "output_type": "stream",
     "text": [
      "0.28379716136641964\n"
     ]
    }
   ],
   "source": [
    "evaluator = MulticlassClassificationEvaluator(labelCol = 'label', predictionCol = 'prediction', metricName = 'accuracy')\n",
    "mlpacc = evaluator.evaluate(pred_df)\n",
    "print(mlpacc)"
   ]
  },
  {
   "cell_type": "code",
   "execution_count": null,
   "metadata": {},
   "outputs": [],
   "source": []
  }
 ],
 "metadata": {
  "kernelspec": {
   "display_name": "Python 3",
   "language": "python",
   "name": "python3"
  },
  "language_info": {
   "codemirror_mode": {
    "name": "ipython",
    "version": 3
   },
   "file_extension": ".py",
   "mimetype": "text/x-python",
   "name": "python",
   "nbconvert_exporter": "python",
   "pygments_lexer": "ipython3",
   "version": "3.8.5"
  }
 },
 "nbformat": 4,
 "nbformat_minor": 5
}
