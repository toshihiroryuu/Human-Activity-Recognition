{
 "cells": [
  {
   "cell_type": "markdown",
   "metadata": {},
   "source": [
    "CMD : pyspark --master local[2]"
   ]
  },
  {
   "cell_type": "code",
   "execution_count": 1,
   "metadata": {},
   "outputs": [],
   "source": [
    "from pyspark import SparkContext\n",
    "\n",
    "sc = SparkContext.getOrCreate()"
   ]
  },
  {
   "cell_type": "code",
   "execution_count": 2,
   "metadata": {},
   "outputs": [],
   "source": [
    "from pyspark.sql import SparkSession\n",
    "\n",
    "spark = SparkSession.builder \\\n",
    "       .master(\"local\") \\\n",
    "       .appName(\"HARspark\") \\\n",
    "       .config(\"spark.some.config.option\", \"some-value\") \\\n",
    "       .getOrCreate()"
   ]
  },
  {
   "cell_type": "code",
   "execution_count": 4,
   "metadata": {},
   "outputs": [
    {
     "name": "stdout",
     "output_type": "stream",
     "text": [
      "root\n",
      " |-- _c0: integer (nullable = true)\n",
      " |-- rotationRate: double (nullable = true)\n",
      " |-- userAcceleration: double (nullable = true)\n",
      " |-- act: double (nullable = true)\n",
      " |-- id: double (nullable = true)\n",
      " |-- weight: double (nullable = true)\n",
      " |-- height: double (nullable = true)\n",
      " |-- age: double (nullable = true)\n",
      " |-- gender: double (nullable = true)\n",
      " |-- trial: double (nullable = true)\n",
      "\n"
     ]
    }
   ],
   "source": [
    "df = spark.read.csv(\"test.csv\", header=True, inferSchema=True)\n",
    "df.printSchema()"
   ]
  },
  {
   "cell_type": "code",
   "execution_count": 5,
   "metadata": {},
   "outputs": [
    {
     "name": "stdout",
     "output_type": "stream",
     "text": [
      "+---+--------------------+--------------------+---+---+------+------+----+------+-----+\n",
      "|_c0|        rotationRate|    userAcceleration|act| id|weight|height| age|gender|trial|\n",
      "+---+--------------------+--------------------+---+---+------+------+----+------+-----+\n",
      "|  0|0.010253424306055027|0.006959199379238966|0.0|0.0| 102.0| 188.0|46.0|   1.0|  5.0|\n",
      "|  1|0.010920351047470954|0.010672920359489243|0.0|0.0| 102.0| 188.0|46.0|   1.0|  5.0|\n",
      "|  2|0.008376644793710666|0.007009658764875...|0.0|0.0| 102.0| 188.0|46.0|   1.0|  5.0|\n",
      "|  3|0.006554577255628314|0.014892331247994722|0.0|0.0| 102.0| 188.0|46.0|   1.0|  5.0|\n",
      "|  4|0.007723848846268292|0.013001225519157802|0.0|0.0| 102.0| 188.0|46.0|   1.0|  5.0|\n",
      "+---+--------------------+--------------------+---+---+------+------+----+------+-----+\n",
      "only showing top 5 rows\n",
      "\n"
     ]
    }
   ],
   "source": [
    "df.show(5)"
   ]
  },
  {
   "cell_type": "code",
   "execution_count": 6,
   "metadata": {},
   "outputs": [
    {
     "data": {
      "text/plain": [
       "830895"
      ]
     },
     "execution_count": 6,
     "metadata": {},
     "output_type": "execute_result"
    }
   ],
   "source": [
    "df.count()"
   ]
  },
  {
   "cell_type": "code",
   "execution_count": 8,
   "metadata": {},
   "outputs": [
    {
     "name": "stdout",
     "output_type": "stream",
     "text": [
      "+-------+------------------+--------------------+--------------------+------------------+------------------+------------------+-----------------+------------------+------------------+------------------+\n",
      "|summary|               _c0|        rotationRate|    userAcceleration|               act|                id|            weight|           height|               age|            gender|             trial|\n",
      "+-------+------------------+--------------------+--------------------+------------------+------------------+------------------+-----------------+------------------+------------------+------------------+\n",
      "|  count|            830895|              830895|              830895|            830895|            830895|            830895|           830895|            830895|            830895|            830895|\n",
      "|   mean|          415447.0|  1.0972969464544526|  0.3986288622062738|1.9931940858953296|11.527124365894608| 71.96852069154346|173.9261386817829|  28.7999386204033|0.5720674694155098| 5.772687282990029|\n",
      "| stddev|239858.87029668092|  1.5517091625759396|   0.626896689073239| 1.834122715038957|6.9006156089420765|15.932061185161011|8.767540524570096|5.2850560804242335|0.4947793189716197|1.9219704233224166|\n",
      "|    min|                 0|1.791647286716891...|1.177879450538127E-4|               0.0|               0.0|              48.0|            161.0|              18.0|               0.0|               1.0|\n",
      "|    max|            830894|  21.968012402478017|  10.113313284913357|               5.0|              23.0|             102.0|            190.0|              46.0|               1.0|               9.0|\n",
      "+-------+------------------+--------------------+--------------------+------------------+------------------+------------------+-----------------+------------------+------------------+------------------+\n",
      "\n"
     ]
    }
   ],
   "source": [
    "df.describe().show()"
   ]
  },
  {
   "cell_type": "code",
   "execution_count": 9,
   "metadata": {},
   "outputs": [
    {
     "name": "stdout",
     "output_type": "stream",
     "text": [
      "+----+--------------------+--------------------+---+\n",
      "| age|        rotationRate|    userAcceleration|act|\n",
      "+----+--------------------+--------------------+---+\n",
      "|46.0|0.010253424306055027|0.006959199379238966|0.0|\n",
      "|46.0|0.010920351047470954|0.010672920359489243|0.0|\n",
      "|46.0|0.008376644793710666|0.007009658764875...|0.0|\n",
      "|46.0|0.006554577255628314|0.014892331247994722|0.0|\n",
      "|46.0|0.007723848846268292|0.013001225519157802|0.0|\n",
      "+----+--------------------+--------------------+---+\n",
      "only showing top 5 rows\n",
      "\n"
     ]
    }
   ],
   "source": [
    "df.select(\"age\", \"rotationRate\",\"userAcceleration\",\"act\").show(5)"
   ]
  },
  {
   "cell_type": "code",
   "execution_count": 10,
   "metadata": {},
   "outputs": [
    {
     "name": "stdout",
     "output_type": "stream",
     "text": [
      "+---+\n",
      "|act|\n",
      "+---+\n",
      "|0.0|\n",
      "|1.0|\n",
      "|4.0|\n",
      "|3.0|\n",
      "|2.0|\n",
      "|5.0|\n",
      "+---+\n",
      "\n"
     ]
    }
   ],
   "source": [
    "df.select(\"act\").distinct().show()"
   ]
  },
  {
   "cell_type": "code",
   "execution_count": 11,
   "metadata": {},
   "outputs": [
    {
     "name": "stdout",
     "output_type": "stream",
     "text": [
      "+---+-----------+\n",
      "|act|sum(gender)|\n",
      "+---+-----------+\n",
      "|0.0|   133900.0|\n",
      "|1.0|   127188.0|\n",
      "|4.0|    94140.0|\n",
      "|3.0|    32112.0|\n",
      "|2.0|    27707.0|\n",
      "|5.0|    60281.0|\n",
      "+---+-----------+\n",
      "\n"
     ]
    }
   ],
   "source": [
    "from pyspark.sql import functions as F\n",
    "\n",
    "df.groupBy(\"act\").agg(F.sum(\"gender\")).show()"
   ]
  },
  {
   "cell_type": "code",
   "execution_count": 12,
   "metadata": {},
   "outputs": [
    {
     "name": "stdout",
     "output_type": "stream",
     "text": [
      "+---+------------+----------------+---+---+------+------+---+------+-----+\n",
      "|_c0|rotationRate|userAcceleration|act| id|weight|height|age|gender|trial|\n",
      "+---+------------+----------------+---+---+------+------+---+------+-----+\n",
      "|  0|           0|               0|  0|  0|     0|     0|  0|     0|    0|\n",
      "+---+------------+----------------+---+---+------+------+---+------+-----+\n",
      "\n"
     ]
    }
   ],
   "source": [
    "df.select([F.count(F.when(F.isnull(c), c)).alias(c) for c in df.columns]).show()"
   ]
  },
  {
   "cell_type": "markdown",
   "metadata": {},
   "source": [
    "No Missing values"
   ]
  },
  {
   "cell_type": "code",
   "execution_count": 11,
   "metadata": {},
   "outputs": [],
   "source": [
    "# df.write.csv(\"training_data.csv)"
   ]
  },
  {
   "cell_type": "code",
   "execution_count": 13,
   "metadata": {},
   "outputs": [
    {
     "data": {
      "text/plain": [
       "2"
      ]
     },
     "execution_count": 13,
     "metadata": {},
     "output_type": "execute_result"
    }
   ],
   "source": [
    "df.rdd.getNumPartitions()"
   ]
  },
  {
   "cell_type": "code",
   "execution_count": null,
   "metadata": {},
   "outputs": [],
   "source": []
  },
  {
   "cell_type": "markdown",
   "metadata": {},
   "source": [
    "## MLlib"
   ]
  },
  {
   "cell_type": "code",
   "execution_count": 13,
   "metadata": {},
   "outputs": [
    {
     "data": {
      "text/html": [
       "<div>\n",
       "<style scoped>\n",
       "    .dataframe tbody tr th:only-of-type {\n",
       "        vertical-align: middle;\n",
       "    }\n",
       "\n",
       "    .dataframe tbody tr th {\n",
       "        vertical-align: top;\n",
       "    }\n",
       "\n",
       "    .dataframe thead th {\n",
       "        text-align: right;\n",
       "    }\n",
       "</style>\n",
       "<table border=\"1\" class=\"dataframe\">\n",
       "  <thead>\n",
       "    <tr style=\"text-align: right;\">\n",
       "      <th></th>\n",
       "      <th>0</th>\n",
       "      <th>1</th>\n",
       "      <th>2</th>\n",
       "      <th>3</th>\n",
       "      <th>4</th>\n",
       "    </tr>\n",
       "  </thead>\n",
       "  <tbody>\n",
       "    <tr>\n",
       "      <th>summary</th>\n",
       "      <td>count</td>\n",
       "      <td>mean</td>\n",
       "      <td>stddev</td>\n",
       "      <td>min</td>\n",
       "      <td>max</td>\n",
       "    </tr>\n",
       "    <tr>\n",
       "      <th>_c0</th>\n",
       "      <td>830895</td>\n",
       "      <td>415447.0</td>\n",
       "      <td>239858.87029668092</td>\n",
       "      <td>0</td>\n",
       "      <td>830894</td>\n",
       "    </tr>\n",
       "  </tbody>\n",
       "</table>\n",
       "</div>"
      ],
      "text/plain": [
       "              0         1                   2    3       4\n",
       "summary   count      mean              stddev  min     max\n",
       "_c0      830895  415447.0  239858.87029668092    0  830894"
      ]
     },
     "execution_count": 13,
     "metadata": {},
     "output_type": "execute_result"
    }
   ],
   "source": [
    "numeric_features = [t[0] for t in df.dtypes if t[1] == 'int']\n",
    "df.select(numeric_features).describe().toPandas().transpose()"
   ]
  },
  {
   "cell_type": "code",
   "execution_count": 14,
   "metadata": {},
   "outputs": [
    {
     "name": "stdout",
     "output_type": "stream",
     "text": [
      "root\n",
      " |-- age: double (nullable = true)\n",
      " |-- gender: double (nullable = true)\n",
      " |-- weight: double (nullable = true)\n",
      " |-- height: double (nullable = true)\n",
      " |-- rotationRate: double (nullable = true)\n",
      " |-- userAcceleration: double (nullable = true)\n",
      " |-- act: double (nullable = true)\n",
      "\n"
     ]
    }
   ],
   "source": [
    "df = df.select( \"age\", \"gender\", \"weight\", \"height\", \"rotationRate\", \"userAcceleration\", \"act\")\n",
    "\n",
    "cols = df.columns\n",
    "df.printSchema()"
   ]
  },
  {
   "cell_type": "code",
   "execution_count": 15,
   "metadata": {},
   "outputs": [
    {
     "name": "stdout",
     "output_type": "stream",
     "text": [
      "Training Dataset Count: 581828\n",
      "Test Dataset Count: 249067\n"
     ]
    }
   ],
   "source": [
    "train, test = df.randomSplit([0.7, 0.3], seed = 2018)\n",
    "\n",
    "print(\"Training Dataset Count: \" + str(train.count()))\n",
    "print(\"Test Dataset Count: \" + str(test.count()))"
   ]
  },
  {
   "cell_type": "code",
   "execution_count": 16,
   "metadata": {},
   "outputs": [],
   "source": [
    "from pyspark.ml.feature import VectorAssembler\n",
    "\n",
    "inputCols = train.columns[0: len (train.columns) - 1]\n",
    "\n",
    "vecAssembler = VectorAssembler(\\\n",
    "                               inputCols = inputCols, \\\n",
    "                               outputCol = \"features\") \\\n",
    "                              .setHandleInvalid(\"skip\")"
   ]
  },
  {
   "cell_type": "code",
   "execution_count": 17,
   "metadata": {},
   "outputs": [
    {
     "name": "stdout",
     "output_type": "stream",
     "text": [
      "+---------------------------------------------------------------+\n",
      "|features                                                       |\n",
      "+---------------------------------------------------------------+\n",
      "|[23.0,0.0,48.0,164.0,4.632547895057319E-4,0.028051240346908014]|\n",
      "|[23.0,0.0,48.0,164.0,4.632547895057319E-4,0.030473101023689726]|\n",
      "|[23.0,0.0,48.0,164.0,4.771215777975253E-4,0.043320736778129705]|\n",
      "|[23.0,0.0,48.0,164.0,4.822841486095101E-4,0.012493412704301415]|\n",
      "|[23.0,0.0,48.0,164.0,5.073795423546361E-4,0.01697099693594929] |\n",
      "+---------------------------------------------------------------+\n",
      "only showing top 5 rows\n",
      "\n"
     ]
    }
   ],
   "source": [
    "vecTrain = vecAssembler.transform(train)\n",
    "vecTrain.select (\"features\").show(5, False)"
   ]
  }
 ],
 "metadata": {
  "kernelspec": {
   "display_name": "Python 3",
   "language": "python",
   "name": "python3"
  },
  "language_info": {
   "codemirror_mode": {
    "name": "ipython",
    "version": 3
   },
   "file_extension": ".py",
   "mimetype": "text/x-python",
   "name": "python",
   "nbconvert_exporter": "python",
   "pygments_lexer": "ipython3",
   "version": "3.8.8"
  }
 },
 "nbformat": 4,
 "nbformat_minor": 4
}
