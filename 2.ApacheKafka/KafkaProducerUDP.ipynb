{
 "cells": [
  {
   "cell_type": "code",
   "execution_count": null,
   "metadata": {},
   "outputs": [],
   "source": [
    "# ! pip install kafka-python"
   ]
  },
  {
   "cell_type": "markdown",
   "metadata": {},
   "source": [
    "URL : https://www.geeksforgeeks.org/how-to-install-and-run-apache-kafka-on-windows/"
   ]
  },
  {
   "cell_type": "markdown",
   "metadata": {},
   "source": [
    "Go to C:\\kafka\n",
    "    \n",
    "Open CMD:\n",
    "    RUN : .\\bin\\windows\\zookeeper-server-start.bat .\\config\\zookeeper.properties\n",
    "        \n",
    "Open another CMD:\n",
    "    RUN : .\\bin\\windows\\kafka-server-start.bat .\\config\\server.properties"
   ]
  },
  {
   "cell_type": "markdown",
   "metadata": {},
   "source": [
    "#### Create Topic"
   ]
  },
  {
   "cell_type": "markdown",
   "metadata": {},
   "source": [
    "URL : https://towardsdatascience.com/kafka-python-explained-in-10-lines-of-code-800e3e07dad1"
   ]
  },
  {
   "cell_type": "markdown",
   "metadata": {},
   "source": [
    "C:\\kafka\\bin\\windows\n",
    "    \n",
    "Open CMD:\n",
    "    RUN : kafka-topics.bat --create --zookeeper localhost:2181 --replication-factor 1 --partitions 1 --topic mobilestreaming\n"
   ]
  },
  {
   "cell_type": "code",
   "execution_count": null,
   "metadata": {},
   "outputs": [],
   "source": [
    "import json\n",
    "import socket\n",
    "import time\n",
    "from datetime import datetime"
   ]
  },
  {
   "cell_type": "code",
   "execution_count": 1,
   "metadata": {},
   "outputs": [],
   "source": [
    "from kafka import KafkaProducer"
   ]
  },
  {
   "cell_type": "code",
   "execution_count": 2,
   "metadata": {},
   "outputs": [],
   "source": [
    "UDP_IP: str = \"\"\n",
    "UDP_PORT: int = 5555\n",
    "\n",
    "sock = socket.socket(socket.AF_INET, socket.SOCK_DGRAM)\n",
    "sock.bind((UDP_IP, UDP_PORT))\n",
    "\n",
    "# wait 15 secs for the kafka broker to be up & running\n",
    "time.sleep(15)\n",
    "\n",
    "kafka_producer = KafkaProducer(\n",
    "    bootstrap_servers=[\"localhost:9092\"],\n",
    "    value_serializer=lambda x: json.dumps(x).encode(\"ascii\"),\n",
    ")"
   ]
  },
  {
   "cell_type": "code",
   "execution_count": 4,
   "metadata": {},
   "outputs": [
    {
     "ename": "KeyboardInterrupt",
     "evalue": "",
     "output_type": "error",
     "traceback": [
      "\u001b[1;31m---------------------------------------------------------------------------\u001b[0m",
      "\u001b[1;31mKeyboardInterrupt\u001b[0m                         Traceback (most recent call last)",
      "\u001b[1;32m<ipython-input-4-8ab322c5e88a>\u001b[0m in \u001b[0;36m<module>\u001b[1;34m\u001b[0m\n\u001b[0;32m     27\u001b[0m \u001b[1;33m\u001b[0m\u001b[0m\n\u001b[0;32m     28\u001b[0m \u001b[1;32mwhile\u001b[0m \u001b[1;32mTrue\u001b[0m\u001b[1;33m:\u001b[0m\u001b[1;33m\u001b[0m\u001b[1;33m\u001b[0m\u001b[0m\n\u001b[1;32m---> 29\u001b[1;33m     \u001b[0mdata\u001b[0m\u001b[1;33m,\u001b[0m \u001b[0maddr\u001b[0m \u001b[1;33m=\u001b[0m \u001b[0msock\u001b[0m\u001b[1;33m.\u001b[0m\u001b[0mrecvfrom\u001b[0m\u001b[1;33m(\u001b[0m\u001b[1;36m1024\u001b[0m\u001b[1;33m)\u001b[0m\u001b[1;33m\u001b[0m\u001b[1;33m\u001b[0m\u001b[0m\n\u001b[0m\u001b[0;32m     30\u001b[0m     \u001b[0mrow\u001b[0m\u001b[1;33m:\u001b[0m \u001b[0mlist\u001b[0m \u001b[1;33m=\u001b[0m \u001b[0mdata\u001b[0m\u001b[1;33m.\u001b[0m\u001b[0mdecode\u001b[0m\u001b[1;33m(\u001b[0m\u001b[1;34m\"utf-8\"\u001b[0m\u001b[1;33m)\u001b[0m\u001b[1;33m.\u001b[0m\u001b[0msplit\u001b[0m\u001b[1;33m(\u001b[0m\u001b[1;34m\",\"\u001b[0m\u001b[1;33m)\u001b[0m\u001b[1;33m\u001b[0m\u001b[1;33m\u001b[0m\u001b[0m\n\u001b[0;32m     31\u001b[0m     \u001b[0mpayload\u001b[0m\u001b[1;33m:\u001b[0m \u001b[0mdict\u001b[0m \u001b[1;33m=\u001b[0m \u001b[0mget_payload\u001b[0m\u001b[1;33m(\u001b[0m\u001b[0mrow\u001b[0m\u001b[1;33m)\u001b[0m\u001b[1;33m\u001b[0m\u001b[1;33m\u001b[0m\u001b[0m\n",
      "\u001b[1;31mKeyboardInterrupt\u001b[0m: "
     ]
    }
   ],
   "source": [
    "sensor_map: dict = {\n",
    "    1: \"gps_position\",\n",
    "    3: \"accelerometer\",\n",
    "    4: \"gyroscope\",\n",
    "    5: \"magnetic_field\",\n",
    "    81: \"orientation\",\n",
    "    82: \"linear_acceleration\",\n",
    "    83: \"gravity\",\n",
    "    84: \"rotation_vector\",\n",
    "    85: \"pressure\",\n",
    "    86: \"battery_temperature\",\n",
    "}\n",
    "\n",
    "\n",
    "def get_payload(row: list) -> dict:\n",
    "    row: list = list(map(float, row))\n",
    "    dict_: dict = {}\n",
    "    for key in sensor_map:\n",
    "        if key in row:\n",
    "            _index: int = row.index(key)\n",
    "            if key not in (85, 86):\n",
    "                dict_[sensor_map[key]] = row[_index + 1 : _index + 4]\n",
    "            else:\n",
    "                dict_[sensor_map[key]] = row[_index + 1 : _index + 2][0]\n",
    "    return dict_\n",
    "\n",
    "\n",
    "while True:\n",
    "    data, addr = sock.recvfrom(1024)\n",
    "    row: list = data.decode(\"utf-8\").split(\",\")\n",
    "    payload: dict = get_payload(row)\n",
    "    payload[\"@timestamp\"] = datetime.now().isoformat()\n",
    "    payload[\"sender\"] = addr[0]\n",
    "    payload[\"event_id\"] = row[0].replace(\".\", \"\")\n",
    "    kafka_producer.send(\"mobilestreaming\", payload)"
   ]
  }
 ],
 "metadata": {
  "kernelspec": {
   "display_name": "Python 3",
   "language": "python",
   "name": "python3"
  },
  "language_info": {
   "codemirror_mode": {
    "name": "ipython",
    "version": 3
   },
   "file_extension": ".py",
   "mimetype": "text/x-python",
   "name": "python",
   "nbconvert_exporter": "python",
   "pygments_lexer": "ipython3",
   "version": "3.8.5"
  }
 },
 "nbformat": 4,
 "nbformat_minor": 4
}
