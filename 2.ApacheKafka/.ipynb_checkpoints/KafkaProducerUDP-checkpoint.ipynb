{
 "cells": [
  {
   "cell_type": "code",
   "execution_count": null,
   "metadata": {},
   "outputs": [],
   "source": [
    "# ! pip install kafka-python"
   ]
  },
  {
   "cell_type": "markdown",
   "metadata": {},
   "source": [
    "URL : https://www.geeksforgeeks.org/how-to-install-and-run-apache-kafka-on-windows/"
   ]
  },
  {
   "cell_type": "markdown",
   "metadata": {},
   "source": [
    "Go to C:\\kafka\n",
    "    \n",
    "Open CMD:\n",
    "    RUN : .\\bin\\windows\\zookeeper-server-start.bat .\\config\\zookeeper.properties\n",
    "        \n",
    "Open another CMD:\n",
    "    RUN : .\\bin\\windows\\kafka-server-start.bat .\\config\\server.properties"
   ]
  },
  {
   "cell_type": "markdown",
   "metadata": {},
   "source": [
    "#### Create Topic"
   ]
  },
  {
   "cell_type": "markdown",
   "metadata": {},
   "source": [
    "URL : https://towardsdatascience.com/kafka-python-explained-in-10-lines-of-code-800e3e07dad1"
   ]
  },
  {
   "cell_type": "markdown",
   "metadata": {},
   "source": [
    "C:\\kafka\\bin\\windows\n",
    "    \n",
    "Open CMD:\n",
    "    RUN : kafka-topics.bat --create --zookeeper localhost:2181 --replication-factor 1 --partitions 1 --topic mobilestreaming\n"
   ]
  },
  {
   "cell_type": "code",
   "execution_count": 18,
   "metadata": {},
   "outputs": [],
   "source": [
    "import json\n",
    "import socket\n",
    "import time\n",
    "from datetime import datetime"
   ]
  },
  {
   "cell_type": "code",
   "execution_count": 19,
   "metadata": {},
   "outputs": [],
   "source": [
    "from kafka import KafkaProducer"
   ]
  },
  {
   "cell_type": "code",
   "execution_count": 20,
   "metadata": {},
   "outputs": [],
   "source": [
    "UDP_IP: str = \"\"\n",
    "UDP_PORT: int = 5555\n",
    "\n",
    "sock = socket.socket(socket.AF_INET, socket.SOCK_DGRAM)\n",
    "sock.bind((UDP_IP, UDP_PORT))\n",
    "\n",
    "# wait 15 secs for the kafka broker to be up & running\n",
    "time.sleep(15)\n",
    "\n",
    "kafka_producer = KafkaProducer(\n",
    "    bootstrap_servers=[\"localhost:9092\"],\n",
    "    value_serializer=lambda x: json.dumps(x).encode(\"ascii\"),\n",
    ")"
   ]
  },
  {
   "cell_type": "code",
   "execution_count": null,
   "metadata": {},
   "outputs": [],
   "source": [
    "sensor_map: dict = {\n",
    "    1: \"gps_position\",\n",
    "    3: \"accelerometer\",\n",
    "    4: \"gyroscope\",\n",
    "    5: \"magnetic_field\",\n",
    "    81: \"orientation\",\n",
    "    82: \"linear_acceleration\",\n",
    "    83: \"gravity\",\n",
    "    84: \"rotation_vector\",\n",
    "    85: \"pressure\",\n",
    "    86: \"battery_temperature\",\n",
    "}\n",
    "\n",
    "\n",
    "def get_payload(row: list) -> dict:\n",
    "    row: list = list(map(float, row))\n",
    "    dict_: dict = {}\n",
    "    for key in sensor_map:\n",
    "        if key in row:\n",
    "            _index: int = row.index(key)\n",
    "            if key not in (85, 86):\n",
    "                dict_[sensor_map[key]] = row[_index + 1 : _index + 4]\n",
    "            else:\n",
    "                dict_[sensor_map[key]] = row[_index + 1 : _index + 2][0]\n",
    "    return dict_\n",
    "\n",
    "\n",
    "while True:\n",
    "    data, addr = sock.recvfrom(1024)\n",
    "    row: list = data.decode(\"utf-8\").split(\",\")\n",
    "    payload: dict = get_payload(row)\n",
    "    payload[\"@timestamp\"] = datetime.now().isoformat()\n",
    "    payload[\"sender\"] = addr[0]\n",
    "    payload[\"event_id\"] = row[0].replace(\".\", \"\")\n",
    "    kafka_producer.send(\"mobilestreaming\", payload)\n",
    "    print(payload[\"@timestamp\"])"
   ]
  }
 ],
 "metadata": {
  "kernelspec": {
   "display_name": "Python 3",
   "language": "python",
   "name": "python3"
  }
 },
 "nbformat": 4,
 "nbformat_minor": 4
}
