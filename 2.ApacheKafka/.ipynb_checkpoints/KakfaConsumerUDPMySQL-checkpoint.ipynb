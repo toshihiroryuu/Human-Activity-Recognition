{
 "cells": [
  {
   "cell_type": "code",
   "execution_count": null,
   "metadata": {},
   "outputs": [],
   "source": [
    "# ! pip install kafka-python"
   ]
  },
  {
   "cell_type": "code",
   "execution_count": 38,
   "metadata": {},
   "outputs": [],
   "source": [
    "from kafka import KafkaConsumer, TopicPartition"
   ]
  },
  {
   "cell_type": "code",
   "execution_count": 39,
   "metadata": {},
   "outputs": [],
   "source": [
    "consumer1 = KafkaConsumer(bootstrap_servers='localhost:9092')\n",
    "\n",
    "consumer1.subscribe(['mobilestreaming'])"
   ]
  },
  {
   "cell_type": "markdown",
   "metadata": {},
   "source": [
    "### Sensor Data and Time Stamp"
   ]
  },
  {
   "cell_type": "code",
   "execution_count": 73,
   "metadata": {},
   "outputs": [],
   "source": [
    "import mysql.connector as mysql"
   ]
  },
  {
   "cell_type": "code",
   "execution_count": 74,
   "metadata": {},
   "outputs": [],
   "source": [
    "# enter your server IP address/domain name\n",
    "HOST = \"remotemysql.com\" # or \"domain.com\"\n",
    "\n",
    "# database name, if you want just to connect to MySQL server, leave it empty\n",
    "DATABASE = \"CA5uu0B5Nd\"\n",
    "\n",
    "# this is the user you create\n",
    "USER = \"CA5uu0B5Nd\"\n",
    "\n",
    "# user password\n",
    "PASSWORD = \"60bW7aJsjO\""
   ]
  },
  {
   "cell_type": "code",
   "execution_count": 75,
   "metadata": {},
   "outputs": [
    {
     "name": "stdout",
     "output_type": "stream",
     "text": [
      "Connected to: 8.0.13-4\n"
     ]
    }
   ],
   "source": [
    "# connect to MySQL server\n",
    "db_connection = mysql.connect(host=HOST, database=DATABASE, user=USER, password=PASSWORD)\n",
    "print(\"Connected to:\", db_connection.get_server_info())"
   ]
  },
  {
   "cell_type": "code",
   "execution_count": 76,
   "metadata": {},
   "outputs": [],
   "source": [
    "cursor = db_connection.cursor()\n",
    " \n",
    "# Drop table if it already exist using execute()\n",
    "cursor.execute(\"DROP TABLE IF EXISTS MOBILE\")\n",
    " \n",
    "# Create table as per requirement\n",
    "sql = \"CREATE TABLE MOBILE ( TIME TIMESTAMP, ACCX DOUBLE, ACCY DOUBLE, ACCZ DOUBLE, ACC DOUBLE, GYROX DOUBLE, GYROY DOUBLE, GYROZ DOUBLE, GYRO DOUBLE )\"\n",
    " \n",
    "cursor.execute(sql) #table created\n",
    " \n",
    "# disconnect from server\n",
    "# db_connection.close()"
   ]
  },
  {
   "cell_type": "code",
   "execution_count": 77,
   "metadata": {},
   "outputs": [],
   "source": [
    "import numpy as np\n",
    "\n",
    "def produce_magnitude(listt):\n",
    "    magg = np.sqrt(listt[0]**2 + listt[1]**2 + listt[2]**2)\n",
    "    return magg"
   ]
  },
  {
   "cell_type": "code",
   "execution_count": 81,
   "metadata": {},
   "outputs": [],
   "source": [
    "def add_sql(data):\n",
    "    \n",
    "    db_connection = mysql.connect(host=HOST, database=DATABASE, user=USER, password=PASSWORD)\n",
    "    print(\"Connected to:\", db_connection.get_server_info())\n",
    "    \n",
    "    cursor = db_connection.cursor()\n",
    "    \n",
    "    insert_stmt = (\"INSERT INTO MOBILE(TIME, ACCX, ACCY, ACCZ, ACC, GYROX, GYROY, GYROZ, GYRO)\"\n",
    "               \"VALUES (%s, %s, %s, %s, %s, %s, %s, %s, %s)\")\n",
    "\n",
    "    row = (data[\"@timestamp\"], \n",
    "            data[\"accelerometer\"][0], data[\"accelerometer\"][1], data[\"accelerometer\"][2], \n",
    "            produce_magnitude(data[\"accelerometer\"]),\n",
    "            data[\"gyroscope\"][0], data[\"gyroscope\"][1], data[\"gyroscope\"][2], \n",
    "            produce_magnitude(data[\"gyroscope\"]))\n",
    "\n",
    "    try:\n",
    "        cursor.execute(insert_stmt, rpw)\n",
    "        db_connection.commit()\n",
    "        db_connection.close()\n",
    "\n",
    "    except:\n",
    "        db_connection.rollback()\n",
    "        db_connection.close()\n",
    "\n",
    "    print(\"Data inserted : \", row)"
   ]
  },
  {
   "cell_type": "code",
   "execution_count": 82,
   "metadata": {},
   "outputs": [
    {
     "name": "stdout",
     "output_type": "stream",
     "text": [
      "Time Stamp :  2021-04-27T12:13:19.290485\n",
      "Accelerometer :  [0.29, 0.239, 9.966]\n",
      "Gyroscope :  [-0.001, -0.0, 0.0]\n",
      "Connected to: 8.0.13-4\n",
      "Data inserted :  ('2021-04-27T12:13:19.290485', 0.29, 0.239, 9.966, 9.973082622740073, -0.001, -0.0, 0.0, 0.001)\n"
     ]
    }
   ],
   "source": [
    "import ast\n",
    "import time\n",
    " \n",
    "i = 0\n",
    "for msg in consumer1:\n",
    "    \n",
    "    i = i + 1\n",
    "    \n",
    "    # 100 equivalent to 7 seconds\n",
    "    if i%100 == 0:\n",
    "    \n",
    "        byte_str = msg[6]\n",
    "        dict_str = byte_str.decode(\"UTF-8\")\n",
    "        data = ast.literal_eval(dict_str)\n",
    "\n",
    "        if \"gyroscope\" in data:\n",
    "            print(\"Time Stamp : \", data[\"@timestamp\"])\n",
    "            print(\"Accelerometer : \", data[\"accelerometer\"])\n",
    "            print(\"Gyroscope : \", data[\"gyroscope\"])\n",
    "            \n",
    "            add_sql(data)\n",
    "            \n",
    "        break"
   ]
  },
  {
   "cell_type": "markdown",
   "metadata": {},
   "source": [
    "### Sample data"
   ]
  },
  {
   "cell_type": "raw",
   "metadata": {},
   "source": [
    "Time Stamp :  2021-04-25T11:26:20.713650\n",
    "Accelerometer :  [0.185, 0.241, 9.985]\n",
    "Gyroscope :  [0.001, -0.0, -0.0]"
   ]
  }
 ],
 "metadata": {
  "kernelspec": {
   "display_name": "Python 3",
   "language": "python",
   "name": "python3"
  },
  "language_info": {
   "codemirror_mode": {
    "name": "ipython",
    "version": 3
   },
   "file_extension": ".py",
   "mimetype": "text/x-python",
   "name": "python",
   "nbconvert_exporter": "python",
   "pygments_lexer": "ipython3",
   "version": "3.8.5"
  }
 },
 "nbformat": 4,
 "nbformat_minor": 4
}
